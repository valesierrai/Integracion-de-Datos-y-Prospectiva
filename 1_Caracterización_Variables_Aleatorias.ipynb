{
  "nbformat": 4,
  "nbformat_minor": 0,
  "metadata": {
    "colab": {
      "provenance": [],
      "authorship_tag": "ABX9TyO3OLSfNkdGB7TWRbV/v4Kh",
      "include_colab_link": true
    },
    "kernelspec": {
      "name": "python3",
      "display_name": "Python 3"
    },
    "language_info": {
      "name": "python"
    }
  },
  "cells": [
    {
      "cell_type": "markdown",
      "metadata": {
        "id": "view-in-github",
        "colab_type": "text"
      },
      "source": [
        "<a href=\"https://colab.research.google.com/github/valesierrai/Integracion-de-Datos-y-Prospectiva/blob/main/1_Caracterizaci%C3%B3n_Variables_Aleatorias.ipynb\" target=\"_parent\"><img src=\"https://colab.research.google.com/assets/colab-badge.svg\" alt=\"Open In Colab\"/></a>"
      ]
    },
    {
      "cell_type": "markdown",
      "source": [
        "#**Caracterización Experimental de Variables**"
      ],
      "metadata": {
        "id": "VsNX_aAIckko"
      }
    },
    {
      "cell_type": "markdown",
      "source": [
        "##0. Cargamos Librerias de Trabajo"
      ],
      "metadata": {
        "id": "_WXDQX_IeX5i"
      }
    },
    {
      "cell_type": "code",
      "execution_count": null,
      "metadata": {
        "colab": {
          "base_uri": "https://localhost:8080/"
        },
        "id": "calWBjJcYz1z",
        "outputId": "02ea668d-7e40-4d47-cc90-b7e2ed1dea74"
      },
      "outputs": [
        {
          "output_type": "stream",
          "name": "stdout",
          "text": [
            "Drive already mounted at /content/drive; to attempt to forcibly remount, call drive.mount(\"/content/drive\", force_remount=True).\n"
          ]
        }
      ],
      "source": [
        "import numpy as np #Funciones Númericas\n",
        "import matplotlib.pyplot as plt\n",
        "import pandas as pd #Comunicación con el Excel\n",
        "import seaborn as sns #Libreria para la gráfica de distribuciones\n",
        "\n",
        "#Para carga automática de los datos\n",
        "from google.colab import drive #Cargar datos desde Drive automáticamente\n",
        "drive.mount('/content/drive')"
      ]
    },
    {
      "cell_type": "markdown",
      "source": [
        "##1. Cargamos la Base de Datos"
      ],
      "metadata": {
        "id": "WoRYonCKgosz"
      }
    },
    {
      "cell_type": "code",
      "source": [
        "nxl = '/content/drive/MyDrive/Colab Notebooks/Integración de Datos y Prospectiva/Bases de Datos/3. FallasTecnologicas.xlsx'\n",
        "XDB = pd.read_excel(nxl, sheet_name=0)\n",
        "\n",
        "#Mostramos los primeros 100 datos\n",
        "XDB.head(100)"
      ],
      "metadata": {
        "colab": {
          "base_uri": "https://localhost:8080/",
          "height": 424
        },
        "id": "wccLQLnTflY0",
        "outputId": "5ceedbd7-6ea2-4de2-a230-fd3da24e0e7b"
      },
      "execution_count": null,
      "outputs": [
        {
          "output_type": "execute_result",
          "data": {
            "text/plain": [
              "        Fechas  Eventos  Transaccion Promedio  Eventos-Fallo  Pérdida Promedio\n",
              "0     Semana 1       80               14.8058              1            0.5374\n",
              "1     Semana 2      105               56.4721              4            1.1978\n",
              "2     Semana 3       70                9.9760              5            0.4269\n",
              "3     Semana 4      105               18.2949              6            1.0814\n",
              "4     Semana 5      130               23.4112              7            1.2105\n",
              "..         ...      ...                   ...            ...               ...\n",
              "95   Semana 96      115               25.2722              1            1.3816\n",
              "96   Semana 97       75                8.8613              6            1.2785\n",
              "97   Semana 98       85               19.7139              1            0.6788\n",
              "98   Semana 99       80                1.4179              3           14.7925\n",
              "99  Semana 100       55               15.6509              2            2.3439\n",
              "\n",
              "[100 rows x 5 columns]"
            ],
            "text/html": [
              "\n",
              "  <div id=\"df-323d7eeb-3070-48f4-9ac3-550062ae8235\" class=\"colab-df-container\">\n",
              "    <div>\n",
              "<style scoped>\n",
              "    .dataframe tbody tr th:only-of-type {\n",
              "        vertical-align: middle;\n",
              "    }\n",
              "\n",
              "    .dataframe tbody tr th {\n",
              "        vertical-align: top;\n",
              "    }\n",
              "\n",
              "    .dataframe thead th {\n",
              "        text-align: right;\n",
              "    }\n",
              "</style>\n",
              "<table border=\"1\" class=\"dataframe\">\n",
              "  <thead>\n",
              "    <tr style=\"text-align: right;\">\n",
              "      <th></th>\n",
              "      <th>Fechas</th>\n",
              "      <th>Eventos</th>\n",
              "      <th>Transaccion Promedio</th>\n",
              "      <th>Eventos-Fallo</th>\n",
              "      <th>Pérdida Promedio</th>\n",
              "    </tr>\n",
              "  </thead>\n",
              "  <tbody>\n",
              "    <tr>\n",
              "      <th>0</th>\n",
              "      <td>Semana 1</td>\n",
              "      <td>80</td>\n",
              "      <td>14.8058</td>\n",
              "      <td>1</td>\n",
              "      <td>0.5374</td>\n",
              "    </tr>\n",
              "    <tr>\n",
              "      <th>1</th>\n",
              "      <td>Semana 2</td>\n",
              "      <td>105</td>\n",
              "      <td>56.4721</td>\n",
              "      <td>4</td>\n",
              "      <td>1.1978</td>\n",
              "    </tr>\n",
              "    <tr>\n",
              "      <th>2</th>\n",
              "      <td>Semana 3</td>\n",
              "      <td>70</td>\n",
              "      <td>9.9760</td>\n",
              "      <td>5</td>\n",
              "      <td>0.4269</td>\n",
              "    </tr>\n",
              "    <tr>\n",
              "      <th>3</th>\n",
              "      <td>Semana 4</td>\n",
              "      <td>105</td>\n",
              "      <td>18.2949</td>\n",
              "      <td>6</td>\n",
              "      <td>1.0814</td>\n",
              "    </tr>\n",
              "    <tr>\n",
              "      <th>4</th>\n",
              "      <td>Semana 5</td>\n",
              "      <td>130</td>\n",
              "      <td>23.4112</td>\n",
              "      <td>7</td>\n",
              "      <td>1.2105</td>\n",
              "    </tr>\n",
              "    <tr>\n",
              "      <th>...</th>\n",
              "      <td>...</td>\n",
              "      <td>...</td>\n",
              "      <td>...</td>\n",
              "      <td>...</td>\n",
              "      <td>...</td>\n",
              "    </tr>\n",
              "    <tr>\n",
              "      <th>95</th>\n",
              "      <td>Semana 96</td>\n",
              "      <td>115</td>\n",
              "      <td>25.2722</td>\n",
              "      <td>1</td>\n",
              "      <td>1.3816</td>\n",
              "    </tr>\n",
              "    <tr>\n",
              "      <th>96</th>\n",
              "      <td>Semana 97</td>\n",
              "      <td>75</td>\n",
              "      <td>8.8613</td>\n",
              "      <td>6</td>\n",
              "      <td>1.2785</td>\n",
              "    </tr>\n",
              "    <tr>\n",
              "      <th>97</th>\n",
              "      <td>Semana 98</td>\n",
              "      <td>85</td>\n",
              "      <td>19.7139</td>\n",
              "      <td>1</td>\n",
              "      <td>0.6788</td>\n",
              "    </tr>\n",
              "    <tr>\n",
              "      <th>98</th>\n",
              "      <td>Semana 99</td>\n",
              "      <td>80</td>\n",
              "      <td>1.4179</td>\n",
              "      <td>3</td>\n",
              "      <td>14.7925</td>\n",
              "    </tr>\n",
              "    <tr>\n",
              "      <th>99</th>\n",
              "      <td>Semana 100</td>\n",
              "      <td>55</td>\n",
              "      <td>15.6509</td>\n",
              "      <td>2</td>\n",
              "      <td>2.3439</td>\n",
              "    </tr>\n",
              "  </tbody>\n",
              "</table>\n",
              "<p>100 rows × 5 columns</p>\n",
              "</div>\n",
              "    <div class=\"colab-df-buttons\">\n",
              "\n",
              "  <div class=\"colab-df-container\">\n",
              "    <button class=\"colab-df-convert\" onclick=\"convertToInteractive('df-323d7eeb-3070-48f4-9ac3-550062ae8235')\"\n",
              "            title=\"Convert this dataframe to an interactive table.\"\n",
              "            style=\"display:none;\">\n",
              "\n",
              "  <svg xmlns=\"http://www.w3.org/2000/svg\" height=\"24px\" viewBox=\"0 -960 960 960\">\n",
              "    <path d=\"M120-120v-720h720v720H120Zm60-500h600v-160H180v160Zm220 220h160v-160H400v160Zm0 220h160v-160H400v160ZM180-400h160v-160H180v160Zm440 0h160v-160H620v160ZM180-180h160v-160H180v160Zm440 0h160v-160H620v160Z\"/>\n",
              "  </svg>\n",
              "    </button>\n",
              "\n",
              "  <style>\n",
              "    .colab-df-container {\n",
              "      display:flex;\n",
              "      gap: 12px;\n",
              "    }\n",
              "\n",
              "    .colab-df-convert {\n",
              "      background-color: #E8F0FE;\n",
              "      border: none;\n",
              "      border-radius: 50%;\n",
              "      cursor: pointer;\n",
              "      display: none;\n",
              "      fill: #1967D2;\n",
              "      height: 32px;\n",
              "      padding: 0 0 0 0;\n",
              "      width: 32px;\n",
              "    }\n",
              "\n",
              "    .colab-df-convert:hover {\n",
              "      background-color: #E2EBFA;\n",
              "      box-shadow: 0px 1px 2px rgba(60, 64, 67, 0.3), 0px 1px 3px 1px rgba(60, 64, 67, 0.15);\n",
              "      fill: #174EA6;\n",
              "    }\n",
              "\n",
              "    .colab-df-buttons div {\n",
              "      margin-bottom: 4px;\n",
              "    }\n",
              "\n",
              "    [theme=dark] .colab-df-convert {\n",
              "      background-color: #3B4455;\n",
              "      fill: #D2E3FC;\n",
              "    }\n",
              "\n",
              "    [theme=dark] .colab-df-convert:hover {\n",
              "      background-color: #434B5C;\n",
              "      box-shadow: 0px 1px 3px 1px rgba(0, 0, 0, 0.15);\n",
              "      filter: drop-shadow(0px 1px 2px rgba(0, 0, 0, 0.3));\n",
              "      fill: #FFFFFF;\n",
              "    }\n",
              "  </style>\n",
              "\n",
              "    <script>\n",
              "      const buttonEl =\n",
              "        document.querySelector('#df-323d7eeb-3070-48f4-9ac3-550062ae8235 button.colab-df-convert');\n",
              "      buttonEl.style.display =\n",
              "        google.colab.kernel.accessAllowed ? 'block' : 'none';\n",
              "\n",
              "      async function convertToInteractive(key) {\n",
              "        const element = document.querySelector('#df-323d7eeb-3070-48f4-9ac3-550062ae8235');\n",
              "        const dataTable =\n",
              "          await google.colab.kernel.invokeFunction('convertToInteractive',\n",
              "                                                    [key], {});\n",
              "        if (!dataTable) return;\n",
              "\n",
              "        const docLinkHtml = 'Like what you see? Visit the ' +\n",
              "          '<a target=\"_blank\" href=https://colab.research.google.com/notebooks/data_table.ipynb>data table notebook</a>'\n",
              "          + ' to learn more about interactive tables.';\n",
              "        element.innerHTML = '';\n",
              "        dataTable['output_type'] = 'display_data';\n",
              "        await google.colab.output.renderOutput(dataTable, element);\n",
              "        const docLink = document.createElement('div');\n",
              "        docLink.innerHTML = docLinkHtml;\n",
              "        element.appendChild(docLink);\n",
              "      }\n",
              "    </script>\n",
              "  </div>\n",
              "\n",
              "\n",
              "<div id=\"df-fab300b4-c951-4fef-bbb3-1d571dd7439d\">\n",
              "  <button class=\"colab-df-quickchart\" onclick=\"quickchart('df-fab300b4-c951-4fef-bbb3-1d571dd7439d')\"\n",
              "            title=\"Suggest charts\"\n",
              "            style=\"display:none;\">\n",
              "\n",
              "<svg xmlns=\"http://www.w3.org/2000/svg\" height=\"24px\"viewBox=\"0 0 24 24\"\n",
              "     width=\"24px\">\n",
              "    <g>\n",
              "        <path d=\"M19 3H5c-1.1 0-2 .9-2 2v14c0 1.1.9 2 2 2h14c1.1 0 2-.9 2-2V5c0-1.1-.9-2-2-2zM9 17H7v-7h2v7zm4 0h-2V7h2v10zm4 0h-2v-4h2v4z\"/>\n",
              "    </g>\n",
              "</svg>\n",
              "  </button>\n",
              "\n",
              "<style>\n",
              "  .colab-df-quickchart {\n",
              "      --bg-color: #E8F0FE;\n",
              "      --fill-color: #1967D2;\n",
              "      --hover-bg-color: #E2EBFA;\n",
              "      --hover-fill-color: #174EA6;\n",
              "      --disabled-fill-color: #AAA;\n",
              "      --disabled-bg-color: #DDD;\n",
              "  }\n",
              "\n",
              "  [theme=dark] .colab-df-quickchart {\n",
              "      --bg-color: #3B4455;\n",
              "      --fill-color: #D2E3FC;\n",
              "      --hover-bg-color: #434B5C;\n",
              "      --hover-fill-color: #FFFFFF;\n",
              "      --disabled-bg-color: #3B4455;\n",
              "      --disabled-fill-color: #666;\n",
              "  }\n",
              "\n",
              "  .colab-df-quickchart {\n",
              "    background-color: var(--bg-color);\n",
              "    border: none;\n",
              "    border-radius: 50%;\n",
              "    cursor: pointer;\n",
              "    display: none;\n",
              "    fill: var(--fill-color);\n",
              "    height: 32px;\n",
              "    padding: 0;\n",
              "    width: 32px;\n",
              "  }\n",
              "\n",
              "  .colab-df-quickchart:hover {\n",
              "    background-color: var(--hover-bg-color);\n",
              "    box-shadow: 0 1px 2px rgba(60, 64, 67, 0.3), 0 1px 3px 1px rgba(60, 64, 67, 0.15);\n",
              "    fill: var(--button-hover-fill-color);\n",
              "  }\n",
              "\n",
              "  .colab-df-quickchart-complete:disabled,\n",
              "  .colab-df-quickchart-complete:disabled:hover {\n",
              "    background-color: var(--disabled-bg-color);\n",
              "    fill: var(--disabled-fill-color);\n",
              "    box-shadow: none;\n",
              "  }\n",
              "\n",
              "  .colab-df-spinner {\n",
              "    border: 2px solid var(--fill-color);\n",
              "    border-color: transparent;\n",
              "    border-bottom-color: var(--fill-color);\n",
              "    animation:\n",
              "      spin 1s steps(1) infinite;\n",
              "  }\n",
              "\n",
              "  @keyframes spin {\n",
              "    0% {\n",
              "      border-color: transparent;\n",
              "      border-bottom-color: var(--fill-color);\n",
              "      border-left-color: var(--fill-color);\n",
              "    }\n",
              "    20% {\n",
              "      border-color: transparent;\n",
              "      border-left-color: var(--fill-color);\n",
              "      border-top-color: var(--fill-color);\n",
              "    }\n",
              "    30% {\n",
              "      border-color: transparent;\n",
              "      border-left-color: var(--fill-color);\n",
              "      border-top-color: var(--fill-color);\n",
              "      border-right-color: var(--fill-color);\n",
              "    }\n",
              "    40% {\n",
              "      border-color: transparent;\n",
              "      border-right-color: var(--fill-color);\n",
              "      border-top-color: var(--fill-color);\n",
              "    }\n",
              "    60% {\n",
              "      border-color: transparent;\n",
              "      border-right-color: var(--fill-color);\n",
              "    }\n",
              "    80% {\n",
              "      border-color: transparent;\n",
              "      border-right-color: var(--fill-color);\n",
              "      border-bottom-color: var(--fill-color);\n",
              "    }\n",
              "    90% {\n",
              "      border-color: transparent;\n",
              "      border-bottom-color: var(--fill-color);\n",
              "    }\n",
              "  }\n",
              "</style>\n",
              "\n",
              "  <script>\n",
              "    async function quickchart(key) {\n",
              "      const quickchartButtonEl =\n",
              "        document.querySelector('#' + key + ' button');\n",
              "      quickchartButtonEl.disabled = true;  // To prevent multiple clicks.\n",
              "      quickchartButtonEl.classList.add('colab-df-spinner');\n",
              "      try {\n",
              "        const charts = await google.colab.kernel.invokeFunction(\n",
              "            'suggestCharts', [key], {});\n",
              "      } catch (error) {\n",
              "        console.error('Error during call to suggestCharts:', error);\n",
              "      }\n",
              "      quickchartButtonEl.classList.remove('colab-df-spinner');\n",
              "      quickchartButtonEl.classList.add('colab-df-quickchart-complete');\n",
              "    }\n",
              "    (() => {\n",
              "      let quickchartButtonEl =\n",
              "        document.querySelector('#df-fab300b4-c951-4fef-bbb3-1d571dd7439d button');\n",
              "      quickchartButtonEl.style.display =\n",
              "        google.colab.kernel.accessAllowed ? 'block' : 'none';\n",
              "    })();\n",
              "  </script>\n",
              "</div>\n",
              "\n",
              "    </div>\n",
              "  </div>\n"
            ],
            "application/vnd.google.colaboratory.intrinsic+json": {
              "type": "dataframe",
              "variable_name": "XDB",
              "summary": "{\n  \"name\": \"XDB\",\n  \"rows\": 701,\n  \"fields\": [\n    {\n      \"column\": \"Fechas\",\n      \"properties\": {\n        \"dtype\": \"string\",\n        \"num_unique_values\": 701,\n        \"samples\": [\n          \"Semana 681\",\n          \"Semana 165\",\n          \"Semana 55\"\n        ],\n        \"semantic_type\": \"\",\n        \"description\": \"\"\n      }\n    },\n    {\n      \"column\": \"Eventos\",\n      \"properties\": {\n        \"dtype\": \"number\",\n        \"std\": 22,\n        \"min\": 35,\n        \"max\": 170,\n        \"num_unique_values\": 27,\n        \"samples\": [\n          135,\n          120,\n          75\n        ],\n        \"semantic_type\": \"\",\n        \"description\": \"\"\n      }\n    },\n    {\n      \"column\": \"Transaccion Promedio\",\n      \"properties\": {\n        \"dtype\": \"number\",\n        \"std\": 11.598670971622456,\n        \"min\": -9.9574,\n        \"max\": 59.5669,\n        \"num_unique_values\": 701,\n        \"samples\": [\n          11.6865,\n          38.9345,\n          26.5405\n        ],\n        \"semantic_type\": \"\",\n        \"description\": \"\"\n      }\n    },\n    {\n      \"column\": \"Eventos-Fallo\",\n      \"properties\": {\n        \"dtype\": \"number\",\n        \"std\": 2,\n        \"min\": 1,\n        \"max\": 16,\n        \"num_unique_values\": 15,\n        \"samples\": [\n          10,\n          11,\n          1\n        ],\n        \"semantic_type\": \"\",\n        \"description\": \"\"\n      }\n    },\n    {\n      \"column\": \"P\\u00e9rdida Promedio\",\n      \"properties\": {\n        \"dtype\": \"number\",\n        \"std\": 2.130130353380655,\n        \"min\": 0.0842,\n        \"max\": 17.3129,\n        \"num_unique_values\": 696,\n        \"samples\": [\n          1.2833,\n          0.5493,\n          5.4353\n        ],\n        \"semantic_type\": \"\",\n        \"description\": \"\"\n      }\n    }\n  ]\n}"
            }
          },
          "metadata": {},
          "execution_count": 3
        }
      ]
    },
    {
      "cell_type": "code",
      "source": [
        "#Tomamos las variables de interés\n",
        "Xev = XDB.iloc[:,3] #Variable Eventos Semanales\n",
        "Xsev = XDB.iloc[:,4] #Pérdidas Promedio por Evento\n",
        "\n",
        "LDA= np.multiply(Xev,Xsev) #Multiplicamos las variables"
      ],
      "metadata": {
        "id": "SlEcoBNXhTxN"
      },
      "execution_count": null,
      "outputs": []
    },
    {
      "cell_type": "code",
      "source": [
        "#Gráficamos la distribución de las Pérdidas\n",
        "plt.figure()\n",
        "sns.histplot(LDA, kde=True, bins=10, color= 'orange') #Bins agrupar los datos en 10 intervalos\n",
        "plt.legend(['Distribución de Pérdidas'])\n",
        "plt.show()"
      ],
      "metadata": {
        "colab": {
          "base_uri": "https://localhost:8080/",
          "height": 430
        },
        "id": "aTYs3KUIh_eE",
        "outputId": "f7069a33-b7af-4b48-ee74-69ddb7e4f7e8"
      },
      "execution_count": null,
      "outputs": [
        {
          "output_type": "display_data",
          "data": {
            "text/plain": [
              "<Figure size 640x480 with 1 Axes>"
            ],
            "image/png": "[encoded data removed]"
          },
          "metadata": {}
        }
      ]
    },
    {
      "cell_type": "markdown",
      "source": [
        "##2. Caracterización de la Distribución de las Pérdidas"
      ],
      "metadata": {
        "id": "XYyJEiG-lXi5"
      }
    },
    {
      "cell_type": "code",
      "source": [
        "counts,bins_edges=np.histogram(LDA,bins=10)\n",
        "print(\"Los datos por intervalo son:\\n\", counts)     #Cuantos datos hay por intervalo\n",
        "print(\"Los limites de los intervalos son: \\n\", bins_edges) #Limites de los Intervalos"
      ],
      "metadata": {
        "colab": {
          "base_uri": "https://localhost:8080/"
        },
        "id": "WlVvBVPFj7WW",
        "outputId": "4a4222a1-e19c-4451-c0b0-cdbf5817a382"
      },
      "execution_count": null,
      "outputs": [
        {
          "output_type": "stream",
          "name": "stdout",
          "text": [
            "Los datos por intervalo son:\n",
            " [533  93  37  14   9   5   3   5   1   1]\n",
            "Los limites de los intervalos son: \n",
            " [  0.1423   11.23637  22.33044  33.42451  44.51858  55.61265  66.70672\n",
            "  77.80079  88.89486  99.98893 111.083  ]\n"
          ]
        }
      ]
    },
    {
      "cell_type": "code",
      "source": [
        "#1. Los valores centrales - marca de clase\n",
        "mc= (bins_edges[:-1]+bins_edges[1:])/2\n",
        "#Limites Inferiores bins_edges[:-1]\n",
        "#Limites Superiores bins_edges[1:]\n",
        "print(\"Los valores centrales de las clases son: \\n\", mc)"
      ],
      "metadata": {
        "colab": {
          "base_uri": "https://localhost:8080/"
        },
        "id": "5LHEtW5OlvH6",
        "outputId": "2dc9e2c9-ab24-4f13-932d-4c539b62893a"
      },
      "execution_count": null,
      "outputs": [
        {
          "output_type": "stream",
          "name": "stdout",
          "text": [
            "Los valores centrales de las clases son: \n",
            " [  5.689335  16.783405  27.877475  38.971545  50.065615  61.159685\n",
            "  72.253755  83.347825  94.441895 105.535965]\n"
          ]
        }
      ]
    },
    {
      "cell_type": "code",
      "source": [
        "#Cuantos datos hay por Intervalo\n",
        "fp = counts/sum(counts)\n",
        "print(\"Los datos por intervalos son:\\n\", fp)"
      ],
      "metadata": {
        "colab": {
          "base_uri": "https://localhost:8080/"
        },
        "id": "m9di-SuAn2q4",
        "outputId": "661da041-0309-4213-e56d-0f07248017df"
      },
      "execution_count": null,
      "outputs": [
        {
          "output_type": "stream",
          "name": "stdout",
          "text": [
            "Los datos por intervalos son:\n",
            " [0.76034237 0.13266762 0.05278174 0.01997147 0.0128388  0.00713267\n",
            " 0.0042796  0.00713267 0.00142653 0.00142653]\n"
          ]
        }
      ]
    },
    {
      "cell_type": "code",
      "source": [
        "#2. Se procede con el cálculo de las medidas de Tendencia Central (Media, Varianza, Coeficiente de Asimetría, Kortosis)\n",
        "\n",
        "#2.1.Media\n",
        "u = np.sum(np.multiply(mc, fp))\n",
        "print(\"La media de los datos es: \", u)\n",
        "\n",
        "#2.2. Desviación Estándar - Varianza\n",
        "#Varianza\n",
        "var = np.sum(np.multiply((mc-u)**2,fp)) #Suma producto del Excel\n",
        "print(\"La varianza de los datos es: \", var)\n",
        "#Desviación Estándar\n",
        "std = np.sqrt(var)\n",
        "print(\"La desviación estándar de los datos es: \", std)\n",
        "\n",
        "#2.3.Coeficiente de Asimetría\n",
        "cas= np.sum(np.multiply((mc-u)**3,fp))/((std**3)*np.sum(fp))\n",
        "print(\"El coeficiente de asimetría de los datos es: \", cas)\n",
        "\n",
        "#2.4. Kurtosis\n",
        "kur= np.sum(np.multiply((mc-u)**4,fp))/((std**4)*np.sum(fp))\n",
        "kur= kur-3\n",
        "print(\"La kurtosis de los datos es: \", kur)"
      ],
      "metadata": {
        "colab": {
          "base_uri": "https://localhost:8080/"
        },
        "id": "u9fF5K2poHbE",
        "outputId": "8a48b657-b40e-462f-ff1c-0c41a01c6b8a"
      },
      "execution_count": null,
      "outputs": [
        {
          "output_type": "stream",
          "name": "stdout",
          "text": [
            "La media de los datos es:  11.07019634094151\n",
            "La varianza de los datos es:  170.14888945066892\n",
            "La desviación estándar de los datos es:  13.044113210589247\n",
            "El coeficiente de asimetría de los datos es:  3.5824155186772604\n",
            "La kurtosis de los datos es:  15.266617247076205\n"
          ]
        }
      ]
    },
    {
      "cell_type": "markdown",
      "source": [
        "##**3. Análisis de Resultados**"
      ],
      "metadata": {
        "id": "nJ1OmnzDsPHu"
      }
    },
    {
      "cell_type": "markdown",
      "source": [
        "En la base de datos se cuenta con un total de 701 registros de eventos de pérdida, asociados con la las operaciones a través de canles electrónicos de una FINTECH. Estos registros nos arrojan como resultado una confiabilidad en la estimación de los estadísticos del 99%, de acuerdo con la teoría de los percentiles. En la gráfica anterior podemos observar que la distribución presenta estructura de cola larga, esto promovido por un coeficiente de asimetría positivo aproximadamente de 3.348, y un coeficiente de curtosis aproximadamente de cerca de 15 unidades, lo que indica que la mayoria de los datos se encuentran muy concentrados alrededor de la media, en un 76% aproximadamente. Esta estructura muestra claramente que los eventos de pérdida extremos son muy escasos, lo que indica una baja exposición al riesgo."
      ],
      "metadata": {
        "id": "TgUKqWQmsVk1"
      }
    },
    {
      "cell_type": "markdown",
      "source": [
        "##4. Se procede con el muestreo de la variable aleatoria de pérdidas"
      ],
      "metadata": {
        "id": "b89TECwcaG7V"
      }
    },
    {
      "cell_type": "code",
      "source": [
        "#Importamos Librerias Adicionales\n",
        "from scipy.stats import skew #Coeficiente de Asimetría\n",
        "from scipy.stats import kurtosis #Kurtosis"
      ],
      "metadata": {
        "id": "gs4uK2nBbT4M"
      },
      "execution_count": null,
      "outputs": []
    },
    {
      "cell_type": "code",
      "source": [
        "#0. Preparamos la variable para el muestreo\n",
        "LDAdf= pd.DataFrame(LDA)\n",
        "\n",
        "#1. Se procede con el muestreo - se va a repetir número de los 349\n",
        "LDAs= LDAdf.sample(n=1000, replace=True)\n",
        "\n",
        "#Calculamos el coeficiente de asimetría\n",
        "casd=skew(LDAs)\n",
        "print(\"El coeficiente de asimetría de los datos es: \", casd)\n",
        "\n",
        "#Calculamos el coeficiente de curtosis\n",
        "kurd=kurtosis(LDAs)\n",
        "print(\"La kurtosis de los datos es: \", kurd)"
      ],
      "metadata": {
        "colab": {
          "base_uri": "https://localhost:8080/"
        },
        "id": "5UP2916KaQdB",
        "outputId": "336e01cc-85da-42e3-ad0c-056dd6a2e0f1"
      },
      "execution_count": null,
      "outputs": [
        {
          "output_type": "stream",
          "name": "stdout",
          "text": [
            "El coeficiente de asimetría de los datos es:  [3.33869368]\n",
            "La kurtosis de los datos es:  [14.55724145]\n"
          ]
        }
      ]
    },
    {
      "cell_type": "code",
      "source": [
        "#Variación Coeficiente de Asimetría\n",
        "pvcas = (cas-casd)/cas\n",
        "print(\"La variación del coeficiente de asimetría es: \", pvcas)\n",
        "\n",
        "#Variación Coeficiente de Curtosis\n",
        "pvkurt = (kur-kurd)/kur\n",
        "print(\"La variación del coeficiente de curtosis es: \", pvkurt)"
      ],
      "metadata": {
        "colab": {
          "base_uri": "https://localhost:8080/"
        },
        "id": "JHLggczQblae",
        "outputId": "bcf4667c-663b-47be-d628-718944a71b4d"
      },
      "execution_count": null,
      "outputs": [
        {
          "output_type": "stream",
          "name": "stdout",
          "text": [
            "La variación del coeficiente de asimetría es:  [0.06803282]\n",
            "La variación del coeficiente de curtosis es:  [0.04646581]\n"
          ]
        }
      ]
    },
    {
      "cell_type": "code",
      "source": [
        "#Se procede con la gráfica de las distribuciones de las pérdidas\n",
        "plt.figure()\n",
        "sns.histplot(LDA, kde=True, bins=10, color= 'red')\n",
        "sns.histplot(LDAs, kde=True, bins=10, color= 'green')\n",
        "plt.legend(['Diferencia entre Distribuciones de Pérdidas'])\n",
        "plt.show()"
      ],
      "metadata": {
        "colab": {
          "base_uri": "https://localhost:8080/",
          "height": 430
        },
        "id": "dtQWI20-ccq5",
        "outputId": "47ab9ca0-7a49-4b6c-8c24-77c52a084ecc"
      },
      "execution_count": null,
      "outputs": [
        {
          "output_type": "display_data",
          "data": {
            "text/plain": [
              "<Figure size 640x480 with 1 Axes>"
            ],
            "image/png": "[encoded data removed]"
          },
          "metadata": {}
        }
      ]
    },
    {
      "cell_type": "markdown",
      "source": [
        "##5. Mapeo de la Distribución de Probabilidad"
      ],
      "metadata": {
        "id": "rZvZwLKveXMO"
      }
    },
    {
      "cell_type": "code",
      "source": [
        "if abs(cas)<0.5 and abs(kur)<0.5:\n",
        "  print(\"Posible distribución Normal\")\n",
        "\n",
        "elif cas>0 and kur>3:\n",
        "  if kur>=8:\n",
        "    print(\"Posible distribución Exponencial\")\n",
        "  elif kur>=6:\n",
        "    print(\"Posible distribución Gamma\")\n",
        "  else:\n",
        "    print(\"Posible distribución Weibull\")\n",
        "elif cas<0 and kur<3:\n",
        "  print(\"Posible distribución Beta\")\n",
        "elif kur<3:\n",
        "  print(\"Posible distribución Uniforme\")\n",
        "else:\n",
        "  print(\"No se puede determinar la distribución\")"
      ],
      "metadata": {
        "colab": {
          "base_uri": "https://localhost:8080/"
        },
        "id": "C6wGYTaQdAvG",
        "outputId": "2142b972-3367-44a5-85cc-640305c0e805"
      },
      "execution_count": null,
      "outputs": [
        {
          "output_type": "stream",
          "name": "stdout",
          "text": [
            "Posible distribución Exponencial\n"
          ]
        }
      ]
    },
    {
      "cell_type": "markdown",
      "source": [
        "##**6. Análisis de Resultados**"
      ],
      "metadata": {
        "id": "TjE1atK5qb_4"
      }
    },
    {
      "cell_type": "markdown",
      "source": [
        "El número de datos disponibles para este análisis fueron un total de 701 datos lo que lo ubica en una confiabilidad del 99%. Para incrementar esta confiabilidad se procedio con un muestreo basado en el método de montecarlo (Giro de la Ruleta - Cargada), logrando en muchos casos coeficientes de asimetría y coeficientes de curtosis por debajo del 5% y 15% respectivamante. A diferencia del método sampling que utiliza la librería pandas los cuales tuvieron variaciones mayores a estos porcentajes. El método de montecarlo asegura variaciones mucho más bajas en estos coeficientes."
      ],
      "metadata": {
        "id": "GR-EjkI4qiBo"
      }
    }
  ]
}