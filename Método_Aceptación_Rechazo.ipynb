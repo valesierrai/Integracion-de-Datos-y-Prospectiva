{
  "nbformat": 4,
  "nbformat_minor": 0,
  "metadata": {
    "colab": {
      "provenance": [],
      "include_colab_link": true
    },
    "kernelspec": {
      "name": "python3",
      "display_name": "Python 3"
    },
    "language_info": {
      "name": "python"
    }
  },
  "cells": [
    {
      "cell_type": "markdown",
      "metadata": {
        "id": "view-in-github",
        "colab_type": "text"
      },
      "source": [
        "<a href=\"https://colab.research.google.com/github/valesierrai/Integracion-de-Datos-y-Prospectiva/blob/main/M%C3%A9todo_Aceptaci%C3%B3n_Rechazo.ipynb\" target=\"_parent\"><img src=\"https://colab.research.google.com/assets/colab-badge.svg\" alt=\"Open In Colab\"/></a>"
      ]
    },
    {
      "cell_type": "markdown",
      "source": [
        "#Método Aceptación - Rechazo"
      ],
      "metadata": {
        "id": "_38Nzc_681q2"
      }
    },
    {
      "cell_type": "markdown",
      "source": [
        "##0. Se cargan las líbrerias"
      ],
      "metadata": {
        "id": "4HGAMl-t82uY"
      }
    },
    {
      "cell_type": "code",
      "execution_count": null,
      "metadata": {
        "colab": {
          "base_uri": "https://localhost:8080/"
        },
        "id": "_A9dZKB1nRfz",
        "outputId": "0e481aa4-d2cd-43b5-a3dd-4009ee6c6642"
      },
      "outputs": [
        {
          "output_type": "stream",
          "name": "stdout",
          "text": [
            "Mounted at /content/drive\n"
          ]
        }
      ],
      "source": [
        "import numpy as np\n",
        "import matplotlib.pyplot as plt\n",
        "import pandas as pd\n",
        "import seaborn as sns #Libreria para la gráfica de distribuciones\n",
        "import random as rnd # Libreria para los números aleatorios\n",
        "from scipy.stats import skew, kurtosis #coeficiente de asímetria y curtosis\n",
        "\n",
        "#Para la carga automatica de los datos\n",
        "from google.colab import drive #Cargar datos desde drive\n",
        "drive.mount('/content/drive')"
      ]
    },
    {
      "cell_type": "markdown",
      "source": [
        "##1. Se cargan las líbrerias de trabajo"
      ],
      "metadata": {
        "id": "_gFr68lf9MvA"
      }
    },
    {
      "cell_type": "code",
      "source": [
        "nxlo = '/content/drive/MyDrive/Colab Notebooks/Integración de Datos y Prospectiva/Bases de Datos/2. FallasTecnológicas.xlsx' #Internos\n",
        "nxle = '/content/drive/MyDrive/Colab Notebooks/Integración de Datos y Prospectiva/Bases de Datos/2. AdmonEjecProcesos.xlsx' #Externos\n",
        "\n",
        "XDBo = pd.read_excel(nxlo, sheet_name= 0); XDBo=XDBo.dropna()\n",
        "XDBe = pd.read_excel(nxle, sheet_name= 0); XDBe=XDBe.dropna()\n",
        "\n",
        "LDAo = np.multiply(XDBo.iloc[:,3], XDBo.iloc[:,4])\n",
        "LDAe = np.multiply(XDBe.iloc[:,3], XDBe.iloc[:,4])"
      ],
      "metadata": {
        "id": "pAZ-OaCZoGnJ"
      },
      "execution_count": null,
      "outputs": []
    },
    {
      "cell_type": "code",
      "source": [
        "#Se procede con la graficar\n",
        "plt.figure()\n",
        "sns.histplot(LDAo, kde = True, bins = 10, color = 'blue')\n",
        "sns.histplot(LDAe, kde = True, bins = 10, color = 'orange')\n",
        "plt.legend()\n",
        "plt.show()"
      ],
      "metadata": {
        "colab": {
          "base_uri": "https://localhost:8080/",
          "height": 485
        },
        "id": "ggVJi48Nq0w5",
        "outputId": "d6301587-aefa-4c35-e5cd-645b16afa3d6"
      },
      "execution_count": null,
      "outputs": [
        {
          "output_type": "stream",
          "name": "stderr",
          "text": [
            "<ipython-input-4-c3668f62f0ea>:5: UserWarning: No artists with labels found to put in legend.  Note that artists whose label start with an underscore are ignored when legend() is called with no argument.\n",
            "  plt.legend()\n"
          ]
        },
        {
          "output_type": "display_data",
          "data": {
            "text/plain": [
              "<Figure size 640x480 with 1 Axes>"
            ],
            "image/png": "[encoded data removed]"
          },
          "metadata": {}
        }
      ]
    },
    {
      "cell_type": "markdown",
      "source": [
        "##2. Creamos el método para calcular las propiedades estadisticas de una variable"
      ],
      "metadata": {
        "id": "9ZHYhoY4-MnI"
      }
    },
    {
      "cell_type": "code",
      "source": [
        "def metricas (XLDA):\n",
        "  u = np.mean(XLDA)\n",
        "  var = np.var(XLDA)\n",
        "  stdv = np.sqrt(var)\n",
        "  cas = skew(XLDA)\n",
        "  kur = kurtosis(XLDA)\n",
        "\n",
        "  if abs(cas) < 0.5 and abs(kur) < 0.5:\n",
        "    tpdist = 'Posible distribución normal'\n",
        "  elif cas > 0 and abs(kur) > 3:\n",
        "    if kur >=8:\n",
        "      tpdist = 'Posible distribución exponencial'\n",
        "    elif kur >=6:\n",
        "        tpdist = 'Posible distribución gamma'\n",
        "    else:\n",
        "        tpdist = 'Posible distribución Weibull'\n",
        "\n",
        "  elif cas < 0 and abs(kur) < 3:\n",
        "    tpdist = 'Posible distribución beta'\n",
        "  elif kur < 3:\n",
        "    tpdist = 'Posible distribución uniforme'\n",
        "  else:\n",
        "    tpdist = 'No es posible determinar la distribución'\n",
        "\n",
        "  return u, var, stdv, cas, kur, tpdist"
      ],
      "metadata": {
        "id": "keuFn5jprdf0"
      },
      "execution_count": null,
      "outputs": []
    },
    {
      "cell_type": "markdown",
      "source": [
        "##3. Se calculan las propiedades estadisticas de las pérdidas, tanto las externas como internas"
      ],
      "metadata": {
        "id": "-zV2xUpVr0nY"
      }
    },
    {
      "cell_type": "code",
      "source": [
        "mobs = metricas(LDAo)\n",
        "\n",
        "#Métricas de los datos internos\n",
        "print(\"La media de los datos internos es:\", mobs[0])\n",
        "print(\"La desviación estandár de los datos internos es:\", mobs[2])\n",
        "print(\"La asimetria de los datos internos es:\", mobs[3])\n",
        "print(\"La kurtosis de los datos internos es:\", mobs[4])\n",
        "print(\"El tipo de distribución de los datos internos es:\",mobs[5])\n",
        "\n",
        "#Solamente me interesan estos limites, por que me interesan los datos de los limites internos\n",
        "LS = mobs[0]+2*mobs[2]; LI = mobs[0]-2*mobs[2]\n",
        "print(\"El limite superior de los datos internos es:\", LS)\n",
        "print(\"El limite inferior de los datos internos es:\", LI)"
      ],
      "metadata": {
        "colab": {
          "base_uri": "https://localhost:8080/"
        },
        "id": "F_5kjVPxr0TO",
        "outputId": "9da491f4-8683-4900-eb9f-c717a01e2f17"
      },
      "execution_count": null,
      "outputs": [
        {
          "output_type": "stream",
          "name": "stdout",
          "text": [
            "La media de los datos internos es: 9.45111269614836\n",
            "La desviación estandár de los datos internos es: 13.707471533012761\n",
            "La asimetria de los datos internos es: 3.3483604527095365\n",
            "La kurtosis de los datos internos es: 14.16771362667782\n",
            "El tipo de distribución de los datos internos es: Posible distribución exponencial\n",
            "El limite superior de los datos internos es: 36.866055762173886\n",
            "El limite inferior de los datos internos es: -17.96383036987716\n"
          ]
        }
      ]
    },
    {
      "cell_type": "code",
      "source": [
        "#Métricas de los datos externos\n",
        "mdex = metricas(LDAe)\n",
        "print(\"La media de los datos externos es:\", mdex[0])\n",
        "print(\"La desviación estandár de los datos externos es:\", mdex[2])\n",
        "print(\"La asimetria de los datos externos es:\", mdex[3])\n",
        "print(\"La kurtosis de los datos externos es:\", mdex[4])\n",
        "print(\"El tipo de distribución de los datos externos es:\",mdex[5])\n",
        "\n",
        "#Limites externos\n",
        "LSe = mdex[0]+2*mdex[2]; LIe = mdex[0]-2*mdex[2]\n",
        "print(\"El limite superior de los datos externos es:\", LSe)\n",
        "print(\"El limite inferior de los datos externos es:\", LIe)"
      ],
      "metadata": {
        "colab": {
          "base_uri": "https://localhost:8080/"
        },
        "id": "aztB5V5GtaRv",
        "outputId": "70815f35-b3b1-43df-930b-60d89d4b8156"
      },
      "execution_count": null,
      "outputs": [
        {
          "output_type": "stream",
          "name": "stdout",
          "text": [
            "La media de los datos externos es: 1.469187040102234\n",
            "La desviación estandár de los datos externos es: 4.008350447638778\n",
            "La asimetria de los datos externos es: 5.059212525816747\n",
            "La kurtosis de los datos externos es: 29.643693069779438\n",
            "El tipo de distribución de los datos externos es: Posible distribución exponencial\n",
            "El limite superior de los datos externos es: 9.48588793537979\n",
            "El limite inferior de los datos externos es: -6.547513855175321\n"
          ]
        }
      ]
    },
    {
      "cell_type": "markdown",
      "source": [
        "##4. Procedemos con la gráfica de las funciones de pertenencia"
      ],
      "metadata": {
        "id": "i7DytGduu2id"
      }
    },
    {
      "cell_type": "code",
      "source": [
        "X = np.linspace(LI, LS, 100) # Como es para gráfica tomo el intervalo mas grande\n",
        "\n",
        "#Está es la función de los internos\n",
        "VPo = np.exp(-0.5*((X-mobs[0])/mobs[2])**2)\n",
        "#Está es la función de los externos\n",
        "VPe = np.exp(-0.5*((X-mdex[0])/mdex[2])**2)\n",
        "\n",
        "#La gráfica de integración\n",
        "plt.figure()\n",
        "plt.plot(X, VPo, color = 'blue', label = 'Internos')\n",
        "plt.plot(X, VPe, color = 'orange', label = 'Externos')\n",
        "plt.legend()\n",
        "plt.show()\n"
      ],
      "metadata": {
        "colab": {
          "base_uri": "https://localhost:8080/",
          "height": 430
        },
        "id": "Lj717s9juwEx",
        "outputId": "6af2080d-99a9-4c02-82ce-3a4d27c68d30"
      },
      "execution_count": null,
      "outputs": [
        {
          "output_type": "display_data",
          "data": {
            "text/plain": [
              "<Figure size 640x480 with 1 Axes>"
            ],
            "image/png": "[encoded data removed]"
          },
          "metadata": {}
        }
      ]
    },
    {
      "cell_type": "markdown",
      "source": [
        "##5. Se procede con la integración de los datos"
      ],
      "metadata": {
        "id": "jG-1QTsox44C"
      }
    },
    {
      "cell_type": "code",
      "source": [
        "xint = LDAe #Los datos de integración son los externos\n",
        "\n",
        "#Evaluamos los datos externos, con respecto a la estructura interna\n",
        "VPoint = np.exp(-0.5*((xint-mobs[0]/mobs[2])**2))\n",
        "\n",
        "#Evaluamos los datos externos con respecto a la estructura externa.\n",
        "VPeint = np.exp(-0.5*((xint-mdex[0]/mdex[2])**2))\n",
        "\n",
        "#Donde los datos externos esten por debajo de los datos internos\n",
        "filas = np.where(VPeint<=VPoint)[0]\n",
        "XDint = LDAe[filas] #datos de integracion\n",
        "\n",
        "#Se integran los datos\n",
        "LDAo2 = np.concatenate((LDAo,XDint))\n",
        "\n",
        "#Como quedó la variable después\n",
        "mint = metricas(LDAo2)\n",
        "print(\"La media de los datos externos es:\", mint[0])\n",
        "print(\"La desviación estandár de los datos externos es:\", mint[2])\n",
        "print(\"La asimetria de los datos externos es:\", mint[3])\n",
        "print(\"La kurtosis de los datos externos es:\", mint[4])"
      ],
      "metadata": {
        "colab": {
          "base_uri": "https://localhost:8080/"
        },
        "id": "hL_6BhUkx8mA",
        "outputId": "c002f9e3-90e0-4fa5-9af9-5f4f21ee0eb7"
      },
      "execution_count": null,
      "outputs": [
        {
          "output_type": "stream",
          "name": "stdout",
          "text": [
            "La media de los datos externos es: 8.7063202847983\n",
            "La desviación estandár de los datos externos es: 13.055761991665811\n",
            "La asimetria de los datos externos es: 3.49857237763576\n",
            "La kurtosis de los datos externos es: 15.769742761550187\n"
          ]
        }
      ]
    },
    {
      "cell_type": "code",
      "source": [
        "cas_antes=mobs[3]\n",
        "cas_despues=mint[3]\n",
        "var_cas = ((cas_antes-cas_despues)/cas_antes)*100\n",
        "print(\"La asimetría cambio un\", var_cas)\n",
        "kur_antes = mobs[4]\n",
        "kur_despues = mint[4]\n",
        "var_kur = ((kur_antes-kur_despues)/kur_antes)*100\n",
        "print(\"La kurtosis cambio un\", var_kur)"
      ],
      "metadata": {
        "colab": {
          "base_uri": "https://localhost:8080/"
        },
        "id": "H5tzYqyC5Jj6",
        "outputId": "6ebbb418-3a4c-494f-f70c-4be304f9ce60"
      },
      "execution_count": null,
      "outputs": [
        {
          "output_type": "stream",
          "name": "stdout",
          "text": [
            "La asimetría cambio un -4.486133648026748\n",
            "La kurtosis cambio un -11.307605285412778\n"
          ]
        }
      ]
    },
    {
      "cell_type": "markdown",
      "source": [
        "# **6. Análisis de Resultados**\n",
        "Para la integración de datos a las operaciones del negocio, se tomó una base de datos externa la cual poseía un total de 350 datos. Esta base de datos posee las siguientes métricas estadísticas. la media con un valor de tal, la desviación con un valor de tal, el coeficiente de asimetría con un valor de tal y un coeficiente de curtosis con un valor de tal. La base de datos interna posee un ttoal de 701 datos con las siguientes métricas estadísticas: media, varianza, curtosis y coeficiente, de estas métricas se puede observar la diferencia tan grande que existe entre la media de las pérdidas, lo que muestra la heterogeneidad entre los datos,\n",
        "\n",
        "Como resultado del proceso de integración mediante el método de aceptación y rechazo, se pudieron untefran un total de 35 datos solamente, lo que representa un 10% del total de los datos externos (350). Es importante mencionar que las métricas estadísticas de curtosis y asimetría no tuvieron variaciones significativas luego de la integración lo que garantiza la estabilidad original de los datos."
      ],
      "metadata": {
        "id": "oD_UG9AX7kt3"
      }
    }
  ]
}