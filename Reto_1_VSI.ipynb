{
  "nbformat": 4,
  "nbformat_minor": 0,
  "metadata": {
    "colab": {
      "provenance": [],
      "authorship_tag": "ABX9TyPzkYQo2nsXU5RSxrv+HKex",
      "include_colab_link": true
    },
    "kernelspec": {
      "name": "python3",
      "display_name": "Python 3"
    },
    "language_info": {
      "name": "python"
    }
  },
  "cells": [
    {
      "cell_type": "markdown",
      "metadata": {
        "id": "view-in-github",
        "colab_type": "text"
      },
      "source": [
        "<a href=\"https://colab.research.google.com/github/valesierrai/Integracion-de-Datos-y-Prospectiva/blob/main/Reto_1_VSI.ipynb\" target=\"_parent\"><img src=\"https://colab.research.google.com/assets/colab-badge.svg\" alt=\"Open In Colab\"/></a>"
      ]
    },
    {
      "cell_type": "markdown",
      "source": [
        "#**RETO 1: Caracterización y Muestreo de Variables Aleatorias**"
      ],
      "metadata": {
        "id": "OOeJ4uDNKLcH"
      }
    },
    {
      "cell_type": "markdown",
      "source": [
        "##0. Cargamos Librerias"
      ],
      "metadata": {
        "id": "rFgDr1unKcx8"
      }
    },
    {
      "cell_type": "code",
      "source": [
        "import numpy as np #Funciones Númericas\n",
        "import matplotlib.pyplot as plt\n",
        "import pandas as pd #Comunicación con el Excel\n",
        "import seaborn as sns #Libreria para la gráfica de distribuciones\n",
        "\n",
        "#Para carga automática de los datos\n",
        "from google.colab import drive #Cargar datos desde Drive automáticamente\n",
        "drive.mount('/content/drive')"
      ],
      "metadata": {
        "colab": {
          "base_uri": "https://localhost:8080/"
        },
        "id": "sZV2liaWKcCt",
        "outputId": "1f6bfc27-5ac3-45fe-d3a2-a00127075c9e"
      },
      "execution_count": null,
      "outputs": [
        {
          "output_type": "stream",
          "name": "stdout",
          "text": [
            "Mounted at /content/drive\n"
          ]
        }
      ]
    },
    {
      "cell_type": "markdown",
      "source": [
        "##1. Cargamos la Base de Datos"
      ],
      "metadata": {
        "id": "rc52WbD7LizW"
      }
    },
    {
      "cell_type": "code",
      "source": [
        "nxl = '/content/drive/MyDrive/Colab Notebooks/Integración de Datos y Prospectiva/Bases de Datos/1. AdmonEjecProcesos.xlsx'\n",
        "XDB = pd.read_excel(nxl, sheet_name=0,header=1)\n",
        "\n",
        "#Mostramos los primeros 100 datos\n",
        "XDB.head(100)"
      ],
      "metadata": {
        "colab": {
          "base_uri": "https://localhost:8080/",
          "height": 632
        },
        "id": "xgWxBZheLl6-",
        "outputId": "60292e04-b04d-42d6-f2e0-b4411423a2c9"
      },
      "execution_count": null,
      "outputs": [
        {
          "output_type": "execute_result",
          "data": {
            "text/plain": [
              "       Fechas  Transacciones Diarias  Valor Transado (millones)  \\\n",
              "0  2010-01-01                     44                   358.3637   \n",
              "1  2010-01-02                     43                   742.8517   \n",
              "2  2010-01-03                     55                   646.6903   \n",
              "3  2010-01-04                     59                   653.5397   \n",
              "4  2010-01-05                     52                   636.6142   \n",
              "..        ...                    ...                        ...   \n",
              "95 2010-04-06                     50                   441.8036   \n",
              "96 2010-04-07                     48                   552.9503   \n",
              "97 2010-04-08                     58                   453.7787   \n",
              "98 2010-04-09                     49                   596.0837   \n",
              "99 2010-04-10                     44                   527.7603   \n",
              "\n",
              "    Transacciones Fallidas  Valor Generado (millones)  \n",
              "0                        5                   0.079029  \n",
              "1                        7                   0.021259  \n",
              "2                        9                   0.038818  \n",
              "3                        3                   0.035956  \n",
              "4                        4                   0.204951  \n",
              "..                     ...                        ...  \n",
              "95                      10                   0.206232  \n",
              "96                       7                   0.019812  \n",
              "97                       6                   0.054705  \n",
              "98                       6                   0.006537  \n",
              "99                       6                   0.074035  \n",
              "\n",
              "[100 rows x 5 columns]"
            ],
            "text/html": [
              "\n",
              "  <div id=\"df-9564ca3b-20dc-4364-9607-f4322b65d04b\" class=\"colab-df-container\">\n",
              "    <div>\n",
              "<style scoped>\n",
              "    .dataframe tbody tr th:only-of-type {\n",
              "        vertical-align: middle;\n",
              "    }\n",
              "\n",
              "    .dataframe tbody tr th {\n",
              "        vertical-align: top;\n",
              "    }\n",
              "\n",
              "    .dataframe thead th {\n",
              "        text-align: right;\n",
              "    }\n",
              "</style>\n",
              "<table border=\"1\" class=\"dataframe\">\n",
              "  <thead>\n",
              "    <tr style=\"text-align: right;\">\n",
              "      <th></th>\n",
              "      <th>Fechas</th>\n",
              "      <th>Transacciones Diarias</th>\n",
              "      <th>Valor Transado (millones)</th>\n",
              "      <th>Transacciones Fallidas</th>\n",
              "      <th>Valor Generado (millones)</th>\n",
              "    </tr>\n",
              "  </thead>\n",
              "  <tbody>\n",
              "    <tr>\n",
              "      <th>0</th>\n",
              "      <td>2010-01-01</td>\n",
              "      <td>44</td>\n",
              "      <td>358.3637</td>\n",
              "      <td>5</td>\n",
              "      <td>0.079029</td>\n",
              "    </tr>\n",
              "    <tr>\n",
              "      <th>1</th>\n",
              "      <td>2010-01-02</td>\n",
              "      <td>43</td>\n",
              "      <td>742.8517</td>\n",
              "      <td>7</td>\n",
              "      <td>0.021259</td>\n",
              "    </tr>\n",
              "    <tr>\n",
              "      <th>2</th>\n",
              "      <td>2010-01-03</td>\n",
              "      <td>55</td>\n",
              "      <td>646.6903</td>\n",
              "      <td>9</td>\n",
              "      <td>0.038818</td>\n",
              "    </tr>\n",
              "    <tr>\n",
              "      <th>3</th>\n",
              "      <td>2010-01-04</td>\n",
              "      <td>59</td>\n",
              "      <td>653.5397</td>\n",
              "      <td>3</td>\n",
              "      <td>0.035956</td>\n",
              "    </tr>\n",
              "    <tr>\n",
              "      <th>4</th>\n",
              "      <td>2010-01-05</td>\n",
              "      <td>52</td>\n",
              "      <td>636.6142</td>\n",
              "      <td>4</td>\n",
              "      <td>0.204951</td>\n",
              "    </tr>\n",
              "    <tr>\n",
              "      <th>...</th>\n",
              "      <td>...</td>\n",
              "      <td>...</td>\n",
              "      <td>...</td>\n",
              "      <td>...</td>\n",
              "      <td>...</td>\n",
              "    </tr>\n",
              "    <tr>\n",
              "      <th>95</th>\n",
              "      <td>2010-04-06</td>\n",
              "      <td>50</td>\n",
              "      <td>441.8036</td>\n",
              "      <td>10</td>\n",
              "      <td>0.206232</td>\n",
              "    </tr>\n",
              "    <tr>\n",
              "      <th>96</th>\n",
              "      <td>2010-04-07</td>\n",
              "      <td>48</td>\n",
              "      <td>552.9503</td>\n",
              "      <td>7</td>\n",
              "      <td>0.019812</td>\n",
              "    </tr>\n",
              "    <tr>\n",
              "      <th>97</th>\n",
              "      <td>2010-04-08</td>\n",
              "      <td>58</td>\n",
              "      <td>453.7787</td>\n",
              "      <td>6</td>\n",
              "      <td>0.054705</td>\n",
              "    </tr>\n",
              "    <tr>\n",
              "      <th>98</th>\n",
              "      <td>2010-04-09</td>\n",
              "      <td>49</td>\n",
              "      <td>596.0837</td>\n",
              "      <td>6</td>\n",
              "      <td>0.006537</td>\n",
              "    </tr>\n",
              "    <tr>\n",
              "      <th>99</th>\n",
              "      <td>2010-04-10</td>\n",
              "      <td>44</td>\n",
              "      <td>527.7603</td>\n",
              "      <td>6</td>\n",
              "      <td>0.074035</td>\n",
              "    </tr>\n",
              "  </tbody>\n",
              "</table>\n",
              "<p>100 rows × 5 columns</p>\n",
              "</div>\n",
              "    <div class=\"colab-df-buttons\">\n",
              "\n",
              "  <div class=\"colab-df-container\">\n",
              "    <button class=\"colab-df-convert\" onclick=\"convertToInteractive('df-9564ca3b-20dc-4364-9607-f4322b65d04b')\"\n",
              "            title=\"Convert this dataframe to an interactive table.\"\n",
              "            style=\"display:none;\">\n",
              "\n",
              "  <svg xmlns=\"http://www.w3.org/2000/svg\" height=\"24px\" viewBox=\"0 -960 960 960\">\n",
              "    <path d=\"M120-120v-720h720v720H120Zm60-500h600v-160H180v160Zm220 220h160v-160H400v160Zm0 220h160v-160H400v160ZM180-400h160v-160H180v160Zm440 0h160v-160H620v160ZM180-180h160v-160H180v160Zm440 0h160v-160H620v160Z\"/>\n",
              "  </svg>\n",
              "    </button>\n",
              "\n",
              "  <style>\n",
              "    .colab-df-container {\n",
              "      display:flex;\n",
              "      gap: 12px;\n",
              "    }\n",
              "\n",
              "    .colab-df-convert {\n",
              "      background-color: #E8F0FE;\n",
              "      border: none;\n",
              "      border-radius: 50%;\n",
              "      cursor: pointer;\n",
              "      display: none;\n",
              "      fill: #1967D2;\n",
              "      height: 32px;\n",
              "      padding: 0 0 0 0;\n",
              "      width: 32px;\n",
              "    }\n",
              "\n",
              "    .colab-df-convert:hover {\n",
              "      background-color: #E2EBFA;\n",
              "      box-shadow: 0px 1px 2px rgba(60, 64, 67, 0.3), 0px 1px 3px 1px rgba(60, 64, 67, 0.15);\n",
              "      fill: #174EA6;\n",
              "    }\n",
              "\n",
              "    .colab-df-buttons div {\n",
              "      margin-bottom: 4px;\n",
              "    }\n",
              "\n",
              "    [theme=dark] .colab-df-convert {\n",
              "      background-color: #3B4455;\n",
              "      fill: #D2E3FC;\n",
              "    }\n",
              "\n",
              "    [theme=dark] .colab-df-convert:hover {\n",
              "      background-color: #434B5C;\n",
              "      box-shadow: 0px 1px 3px 1px rgba(0, 0, 0, 0.15);\n",
              "      filter: drop-shadow(0px 1px 2px rgba(0, 0, 0, 0.3));\n",
              "      fill: #FFFFFF;\n",
              "    }\n",
              "  </style>\n",
              "\n",
              "    <script>\n",
              "      const buttonEl =\n",
              "        document.querySelector('#df-9564ca3b-20dc-4364-9607-f4322b65d04b button.colab-df-convert');\n",
              "      buttonEl.style.display =\n",
              "        google.colab.kernel.accessAllowed ? 'block' : 'none';\n",
              "\n",
              "      async function convertToInteractive(key) {\n",
              "        const element = document.querySelector('#df-9564ca3b-20dc-4364-9607-f4322b65d04b');\n",
              "        const dataTable =\n",
              "          await google.colab.kernel.invokeFunction('convertToInteractive',\n",
              "                                                    [key], {});\n",
              "        if (!dataTable) return;\n",
              "\n",
              "        const docLinkHtml = 'Like what you see? Visit the ' +\n",
              "          '<a target=\"_blank\" href=https://colab.research.google.com/notebooks/data_table.ipynb>data table notebook</a>'\n",
              "          + ' to learn more about interactive tables.';\n",
              "        element.innerHTML = '';\n",
              "        dataTable['output_type'] = 'display_data';\n",
              "        await google.colab.output.renderOutput(dataTable, element);\n",
              "        const docLink = document.createElement('div');\n",
              "        docLink.innerHTML = docLinkHtml;\n",
              "        element.appendChild(docLink);\n",
              "      }\n",
              "    </script>\n",
              "  </div>\n",
              "\n",
              "\n",
              "<div id=\"df-c038f53a-3fb7-48d5-970c-9bc8b5f3d6b4\">\n",
              "  <button class=\"colab-df-quickchart\" onclick=\"quickchart('df-c038f53a-3fb7-48d5-970c-9bc8b5f3d6b4')\"\n",
              "            title=\"Suggest charts\"\n",
              "            style=\"display:none;\">\n",
              "\n",
              "<svg xmlns=\"http://www.w3.org/2000/svg\" height=\"24px\"viewBox=\"0 0 24 24\"\n",
              "     width=\"24px\">\n",
              "    <g>\n",
              "        <path d=\"M19 3H5c-1.1 0-2 .9-2 2v14c0 1.1.9 2 2 2h14c1.1 0 2-.9 2-2V5c0-1.1-.9-2-2-2zM9 17H7v-7h2v7zm4 0h-2V7h2v10zm4 0h-2v-4h2v4z\"/>\n",
              "    </g>\n",
              "</svg>\n",
              "  </button>\n",
              "\n",
              "<style>\n",
              "  .colab-df-quickchart {\n",
              "      --bg-color: #E8F0FE;\n",
              "      --fill-color: #1967D2;\n",
              "      --hover-bg-color: #E2EBFA;\n",
              "      --hover-fill-color: #174EA6;\n",
              "      --disabled-fill-color: #AAA;\n",
              "      --disabled-bg-color: #DDD;\n",
              "  }\n",
              "\n",
              "  [theme=dark] .colab-df-quickchart {\n",
              "      --bg-color: #3B4455;\n",
              "      --fill-color: #D2E3FC;\n",
              "      --hover-bg-color: #434B5C;\n",
              "      --hover-fill-color: #FFFFFF;\n",
              "      --disabled-bg-color: #3B4455;\n",
              "      --disabled-fill-color: #666;\n",
              "  }\n",
              "\n",
              "  .colab-df-quickchart {\n",
              "    background-color: var(--bg-color);\n",
              "    border: none;\n",
              "    border-radius: 50%;\n",
              "    cursor: pointer;\n",
              "    display: none;\n",
              "    fill: var(--fill-color);\n",
              "    height: 32px;\n",
              "    padding: 0;\n",
              "    width: 32px;\n",
              "  }\n",
              "\n",
              "  .colab-df-quickchart:hover {\n",
              "    background-color: var(--hover-bg-color);\n",
              "    box-shadow: 0 1px 2px rgba(60, 64, 67, 0.3), 0 1px 3px 1px rgba(60, 64, 67, 0.15);\n",
              "    fill: var(--button-hover-fill-color);\n",
              "  }\n",
              "\n",
              "  .colab-df-quickchart-complete:disabled,\n",
              "  .colab-df-quickchart-complete:disabled:hover {\n",
              "    background-color: var(--disabled-bg-color);\n",
              "    fill: var(--disabled-fill-color);\n",
              "    box-shadow: none;\n",
              "  }\n",
              "\n",
              "  .colab-df-spinner {\n",
              "    border: 2px solid var(--fill-color);\n",
              "    border-color: transparent;\n",
              "    border-bottom-color: var(--fill-color);\n",
              "    animation:\n",
              "      spin 1s steps(1) infinite;\n",
              "  }\n",
              "\n",
              "  @keyframes spin {\n",
              "    0% {\n",
              "      border-color: transparent;\n",
              "      border-bottom-color: var(--fill-color);\n",
              "      border-left-color: var(--fill-color);\n",
              "    }\n",
              "    20% {\n",
              "      border-color: transparent;\n",
              "      border-left-color: var(--fill-color);\n",
              "      border-top-color: var(--fill-color);\n",
              "    }\n",
              "    30% {\n",
              "      border-color: transparent;\n",
              "      border-left-color: var(--fill-color);\n",
              "      border-top-color: var(--fill-color);\n",
              "      border-right-color: var(--fill-color);\n",
              "    }\n",
              "    40% {\n",
              "      border-color: transparent;\n",
              "      border-right-color: var(--fill-color);\n",
              "      border-top-color: var(--fill-color);\n",
              "    }\n",
              "    60% {\n",
              "      border-color: transparent;\n",
              "      border-right-color: var(--fill-color);\n",
              "    }\n",
              "    80% {\n",
              "      border-color: transparent;\n",
              "      border-right-color: var(--fill-color);\n",
              "      border-bottom-color: var(--fill-color);\n",
              "    }\n",
              "    90% {\n",
              "      border-color: transparent;\n",
              "      border-bottom-color: var(--fill-color);\n",
              "    }\n",
              "  }\n",
              "</style>\n",
              "\n",
              "  <script>\n",
              "    async function quickchart(key) {\n",
              "      const quickchartButtonEl =\n",
              "        document.querySelector('#' + key + ' button');\n",
              "      quickchartButtonEl.disabled = true;  // To prevent multiple clicks.\n",
              "      quickchartButtonEl.classList.add('colab-df-spinner');\n",
              "      try {\n",
              "        const charts = await google.colab.kernel.invokeFunction(\n",
              "            'suggestCharts', [key], {});\n",
              "      } catch (error) {\n",
              "        console.error('Error during call to suggestCharts:', error);\n",
              "      }\n",
              "      quickchartButtonEl.classList.remove('colab-df-spinner');\n",
              "      quickchartButtonEl.classList.add('colab-df-quickchart-complete');\n",
              "    }\n",
              "    (() => {\n",
              "      let quickchartButtonEl =\n",
              "        document.querySelector('#df-c038f53a-3fb7-48d5-970c-9bc8b5f3d6b4 button');\n",
              "      quickchartButtonEl.style.display =\n",
              "        google.colab.kernel.accessAllowed ? 'block' : 'none';\n",
              "    })();\n",
              "  </script>\n",
              "</div>\n",
              "\n",
              "    </div>\n",
              "  </div>\n"
            ],
            "application/vnd.google.colaboratory.intrinsic+json": {
              "type": "dataframe",
              "variable_name": "XDB",
              "summary": "{\n  \"name\": \"XDB\",\n  \"rows\": 350,\n  \"fields\": [\n    {\n      \"column\": \"Fechas\",\n      \"properties\": {\n        \"dtype\": \"date\",\n        \"min\": \"2010-01-01 00:00:00\",\n        \"max\": \"2010-12-16 00:00:00\",\n        \"num_unique_values\": 350,\n        \"samples\": [\n          \"2010-06-07 00:00:00\",\n          \"2010-12-08 00:00:00\",\n          \"2010-11-12 00:00:00\"\n        ],\n        \"semantic_type\": \"\",\n        \"description\": \"\"\n      }\n    },\n    {\n      \"column\": \"Transacciones Diarias\",\n      \"properties\": {\n        \"dtype\": \"number\",\n        \"std\": 6,\n        \"min\": 33,\n        \"max\": 71,\n        \"num_unique_values\": 35,\n        \"samples\": [\n          61,\n          53,\n          62\n        ],\n        \"semantic_type\": \"\",\n        \"description\": \"\"\n      }\n    },\n    {\n      \"column\": \"Valor Transado (millones)\",\n      \"properties\": {\n        \"dtype\": \"number\",\n        \"std\": 120.40216449115617,\n        \"min\": 182.3331,\n        \"max\": 796.7192,\n        \"num_unique_values\": 350,\n        \"samples\": [\n          489.7554,\n          535.5288,\n          648.494\n        ],\n        \"semantic_type\": \"\",\n        \"description\": \"\"\n      }\n    },\n    {\n      \"column\": \"Transacciones Fallidas\",\n      \"properties\": {\n        \"dtype\": \"number\",\n        \"std\": 2,\n        \"min\": 0,\n        \"max\": 12,\n        \"num_unique_values\": 13,\n        \"samples\": [\n          1,\n          10,\n          5\n        ],\n        \"semantic_type\": \"\",\n        \"description\": \"\"\n      }\n    },\n    {\n      \"column\": \"Valor Generado (millones)\",\n      \"properties\": {\n        \"dtype\": \"number\",\n        \"std\": 0.714811808979262,\n        \"min\": 0.00012332477343904636,\n        \"max\": 5.829340490649274,\n        \"num_unique_values\": 350,\n        \"samples\": [\n          0.04698676600133491,\n          0.024712893671307076,\n          2.9018463493119033\n        ],\n        \"semantic_type\": \"\",\n        \"description\": \"\"\n      }\n    }\n  ]\n}"
            }
          },
          "metadata": {},
          "execution_count": 3
        }
      ]
    },
    {
      "cell_type": "code",
      "source": [
        "#Revisamos la cantidad de datos\n",
        "XDB.shape"
      ],
      "metadata": {
        "colab": {
          "base_uri": "https://localhost:8080/"
        },
        "id": "beV72s0DQNZq",
        "outputId": "86584566-1dc1-4d20-e474-3fe3e58d74d9"
      },
      "execution_count": null,
      "outputs": [
        {
          "output_type": "execute_result",
          "data": {
            "text/plain": [
              "(350, 5)"
            ]
          },
          "metadata": {},
          "execution_count": 4
        }
      ]
    },
    {
      "cell_type": "code",
      "source": [
        "#Tomamos las variables de interés\n",
        "Xev = XDB.iloc[:,3] #Transacciones Fallidas\n",
        "Xsev = XDB.iloc[:,4] #Valor Generado (millones)\n",
        "\n",
        "LDA= np.multiply(Xev,Xsev) #Multiplicamos las variables"
      ],
      "metadata": {
        "id": "VeGCnIl4L7hZ"
      },
      "execution_count": null,
      "outputs": []
    },
    {
      "cell_type": "code",
      "source": [
        "#Gráficamos la distribución de las Pérdidas\n",
        "plt.figure()\n",
        "sns.histplot(LDA, kde=True, bins=10, color= 'purple')\n",
        "plt.legend(['Distribución de Pérdidas'])\n",
        "plt.show()"
      ],
      "metadata": {
        "colab": {
          "base_uri": "https://localhost:8080/",
          "height": 430
        },
        "id": "Qfnc_-PYPfpe",
        "outputId": "4af2d0af-f292-46ef-d8f3-3594690c7b02"
      },
      "execution_count": null,
      "outputs": [
        {
          "output_type": "display_data",
          "data": {
            "text/plain": [
              "<Figure size 640x480 with 1 Axes>"
            ],
            "image/png": "[encoded data removed]"
          },
          "metadata": {}
        }
      ]
    },
    {
      "cell_type": "markdown",
      "source": [
        "##2. Caracterización de la Distribución de las Pérdidas"
      ],
      "metadata": {
        "id": "PoXvoXkqS3-f"
      }
    },
    {
      "cell_type": "code",
      "source": [
        "counts,bins_edges=np.histogram(LDA,bins=10)\n",
        "print(\"Los datos por intervalo son:\\n\", counts)     #Cuantos datos hay por intervalo\n",
        "print(\"Los limites de los intervalos son: \\n\", bins_edges) #Limites de los Intervalos"
      ],
      "metadata": {
        "colab": {
          "base_uri": "https://localhost:8080/"
        },
        "id": "jTQORz7yQf9t",
        "outputId": "f5ece774-7e12-4c20-a464-e3a4f0d696ed"
      },
      "execution_count": null,
      "outputs": [
        {
          "output_type": "stream",
          "name": "stdout",
          "text": [
            "Los datos por intervalo son:\n",
            " [315  15   8   4   1   2   3   0   1   1]\n",
            "Los limites de los intervalos son: \n",
            " [ 0.          3.48221562  6.96443124 10.44664686 13.92886248 17.4110781\n",
            " 20.89329372 24.37550933 27.85772495 31.33994057 34.82215619]\n"
          ]
        }
      ]
    },
    {
      "cell_type": "code",
      "source": [
        "#1. Los valores centrales - marca de clase\n",
        "mc= (bins_edges[:-1]+bins_edges[1:])/2\n",
        "#Limites Inferiores bins_edges[:-1]\n",
        "#Limites Superiores bins_edges[1:]\n",
        "print(\"Los valores centrales de las clases son: \\n\", mc)"
      ],
      "metadata": {
        "colab": {
          "base_uri": "https://localhost:8080/"
        },
        "id": "SYFKp99nT5CT",
        "outputId": "c245f19f-3eb0-49d2-b507-827eb91958f0"
      },
      "execution_count": null,
      "outputs": [
        {
          "output_type": "stream",
          "name": "stdout",
          "text": [
            "Los valores centrales de las clases son: \n",
            " [ 1.74110781  5.22332343  8.70553905 12.18775467 15.66997029 19.15218591\n",
            " 22.63440152 26.11661714 29.59883276 33.08104838]\n"
          ]
        }
      ]
    },
    {
      "cell_type": "code",
      "source": [
        "#Cuantos datos hay por Intervalo\n",
        "fp = counts/sum(counts)\n",
        "print(\"Los datos por intervalos son:\\n\", fp)"
      ],
      "metadata": {
        "colab": {
          "base_uri": "https://localhost:8080/"
        },
        "id": "dJeoNME9T5n4",
        "outputId": "a1282e14-1001-4b3d-8198-06c80893a7bf"
      },
      "execution_count": null,
      "outputs": [
        {
          "output_type": "stream",
          "name": "stdout",
          "text": [
            "Los datos por intervalos son:\n",
            " [0.9        0.04285714 0.02285714 0.01142857 0.00285714 0.00571429\n",
            " 0.00857143 0.         0.00285714 0.00285714]\n"
          ]
        }
      ]
    },
    {
      "cell_type": "code",
      "source": [
        "#2. Se procede con el cálculo de las medidas de Tendencia Central (Media, Varianza, Coeficiente de Asimetría, Kortosis)\n",
        "\n",
        "#2.1.Media\n",
        "u = np.sum(np.multiply(mc, fp))\n",
        "print(\"La media de los datos es: \", u)\n",
        "\n",
        "#2.2. Desviación Estándar - Varianza\n",
        "#Varianza\n",
        "var = np.sum(np.multiply((mc-u)**2,fp)) #Suma producto del Excel\n",
        "print(\"La varianza de los datos es: \", var)\n",
        "#Desviación Estándar\n",
        "std = np.sqrt(var)\n",
        "print(\"La desviación estándar de los datos es: \", std)\n",
        "\n",
        "#2.3.Coeficiente de Asimetría\n",
        "cas= np.sum(np.multiply((mc-u)**3,fp))/((std**3)*np.sum(fp))\n",
        "print(\"El coeficiente de asimetría de los datos es: \", cas)\n",
        "\n",
        "#2.4. Kurtosis\n",
        "kur= np.sum(np.multiply((mc-u)**4,fp))/((std**4)*np.sum(fp))\n",
        "kur= kur-3\n",
        "print(\"La kurtosis de los datos es: \", kur)"
      ],
      "metadata": {
        "colab": {
          "base_uri": "https://localhost:8080/"
        },
        "id": "03Op_bNcT843",
        "outputId": "cd25e53b-5353-49d0-9f21-455b0a06f1e3"
      },
      "execution_count": null,
      "outputs": [
        {
          "output_type": "stream",
          "name": "stdout",
          "text": [
            "La media de los datos es:  2.656433058055811\n",
            "La varianza de los datos es:  13.089556542674002\n",
            "La desviación estándar de los datos es:  3.6179492178130417\n",
            "El coeficiente de asimetría de los datos es:  5.313307467317224\n",
            "La kurtosis de los datos es:  31.73555682667\n"
          ]
        }
      ]
    },
    {
      "cell_type": "code",
      "source": [
        "#Error asociado con la muestra de los datos\n",
        "z= 2**2\n",
        "p= 0.9550\n",
        "nd= len(LDA)\n",
        "ek2= (z*p*(1-p))/nd\n",
        "ek= np.sqrt(ek2)\n",
        "print(f\"Error asociado con la muestra de los datos: {ek}\")"
      ],
      "metadata": {
        "colab": {
          "base_uri": "https://localhost:8080/"
        },
        "id": "1pWRd9v3Tkw-",
        "outputId": "fc2eeebe-2c23-49fa-f944-effd3c67cdb1"
      },
      "execution_count": null,
      "outputs": [
        {
          "output_type": "stream",
          "name": "stdout",
          "text": [
            "Error asociado con la muestra de los datos: 0.022161743098024975\n"
          ]
        }
      ]
    },
    {
      "cell_type": "markdown",
      "source": [
        "##3. Muestreo Aleatorio utilizando el método Montecarlo"
      ],
      "metadata": {
        "id": "VS52JhnYlQSY"
      }
    },
    {
      "source": [
        "#Número de simulaciones\n",
        "num_simulaciones = 10000\n",
        "\n",
        "#Nivel de confianza (99.9%)\n",
        "nivel_confianza = 0.999\n",
        "\n",
        "#Calcular el percentil correspondiente al nivel de confianza\n",
        "percentil = np.percentile(LDA, 100 * (1 - nivel_confianza))\n",
        "\n",
        "#Realizar el muestreo aleatorio\n",
        "muestras_montecarlo = np.random.choice(LDA, size=1000, replace=True)\n",
        "\n",
        "#Calcular la pérdida agregada para cada simulación\n",
        "#perdidas_agregadas = np.sum(muestras_montecarlo, axis=1)"
      ],
      "cell_type": "code",
      "metadata": {
        "id": "Fjsg51IrTpOY"
      },
      "execution_count": null,
      "outputs": []
    },
    {
      "cell_type": "code",
      "source": [
        "#Imprimimos los datos a una hoja de excel\n",
        "df = pd.DataFrame(muestras_montecarlo)\n",
        "df.to_excel('muestras_montecarlo.xlsx', index=False)"
      ],
      "metadata": {
        "id": "ZhYgahZAfiEK"
      },
      "execution_count": null,
      "outputs": []
    },
    {
      "cell_type": "markdown",
      "source": [
        "Ahora, calculamos las métricas después de realizar el muestreo"
      ],
      "metadata": {
        "id": "m_3ndbZGmfhI"
      }
    },
    {
      "cell_type": "code",
      "source": [
        "counts_1,bins_edges_1=np.histogram(muestras_montecarlo,bins=10)\n",
        "print(\"Los datos por intervalo son:\\n\", counts_1)     #Cuantos datos hay por intervalo\n",
        "print(\"Los limites de los intervalos son: \\n\", bins_edges_1) #Limites de los Intervalos"
      ],
      "metadata": {
        "colab": {
          "base_uri": "https://localhost:8080/"
        },
        "id": "r-gb5phvn7tp",
        "outputId": "362becef-f8a3-47a7-ec45-5807f31471f6"
      },
      "execution_count": null,
      "outputs": [
        {
          "output_type": "stream",
          "name": "stdout",
          "text": [
            "Los datos por intervalo son:\n",
            " [885  50  25  10   5   3  10   0   5   7]\n",
            "Los limites de los intervalos son: \n",
            " [ 0.          3.48221562  6.96443124 10.44664686 13.92886248 17.4110781\n",
            " 20.89329372 24.37550933 27.85772495 31.33994057 34.82215619]\n"
          ]
        }
      ]
    },
    {
      "cell_type": "code",
      "source": [
        "#1. Los valores centrales - marca de clase\n",
        "mc_1= (bins_edges_1[:-1]+bins_edges_1[1:])/2\n",
        "#Limites Inferiores bins_edges[:-1]\n",
        "#Limites Superiores bins_edges[1:]\n",
        "print(\"Los valores centrales de las clases son: \\n\", mc_1)"
      ],
      "metadata": {
        "colab": {
          "base_uri": "https://localhost:8080/"
        },
        "id": "7df49dHwoZsc",
        "outputId": "b1eb7d8b-19ff-435e-cab7-10db0df5524d"
      },
      "execution_count": null,
      "outputs": [
        {
          "output_type": "stream",
          "name": "stdout",
          "text": [
            "Los valores centrales de las clases son: \n",
            " [ 1.74110781  5.22332343  8.70553905 12.18775467 15.66997029 19.15218591\n",
            " 22.63440152 26.11661714 29.59883276 33.08104838]\n"
          ]
        }
      ]
    },
    {
      "cell_type": "code",
      "source": [
        "#Cuantos datos hay por Intervalo\n",
        "fp_1 = counts_1/sum(counts_1)\n",
        "print(\"Los datos por intervalos son:\\n\", fp_1)"
      ],
      "metadata": {
        "colab": {
          "base_uri": "https://localhost:8080/"
        },
        "id": "aK0wYXxnobfj",
        "outputId": "e5140001-4670-4b5c-a5f5-900c65690363"
      },
      "execution_count": null,
      "outputs": [
        {
          "output_type": "stream",
          "name": "stdout",
          "text": [
            "Los datos por intervalos son:\n",
            " [0.885 0.05  0.025 0.01  0.005 0.003 0.01  0.    0.005 0.007]\n"
          ]
        }
      ]
    },
    {
      "cell_type": "code",
      "source": [
        "#2. Métricas Después del Muestreo\n",
        "#Media\n",
        "u_m = np.sum(np.multiply(mc_1, fp_1))\n",
        "print(\"La media de los datos después del muestreo es:: \", u_m)\n",
        "\n",
        "#2.2. Desviación Estándar - Varianza\n",
        "#Varianza\n",
        "var_m = np.sum(np.multiply((mc_1-u_m)**2,fp_1)) #Suma producto del Excel\n",
        "print(\"La varianza de los datos después del muestreo es: \", var_m)\n",
        "#Desviación Estándar\n",
        "std_m = np.sqrt(var_m)\n",
        "print(\"La desviación estándar de los datos después del muestreo es: \", std_m)\n",
        "\n",
        "#2.3.Coeficiente de Asimetría\n",
        "cas_m= np.sum(np.multiply((mc_1-u_m)**3,fp_1))/((std_m**3)*np.sum(fp_1))\n",
        "print(\"El coeficiente de asimetría de los datos después del muestreo es: \", cas_m)\n",
        "\n",
        "#2.4. Kurtosis\n",
        "kur_m= np.sum(np.multiply((mc_1-u_m)**4,fp_1))/((std_m**4)*np.sum(fp_1))\n",
        "kur_m= kur_m-3\n",
        "print(\"La kurtosis de los datos después del muestreo es: \", kur_m)"
      ],
      "metadata": {
        "colab": {
          "base_uri": "https://localhost:8080/"
        },
        "id": "h2NnSWQEmsWz",
        "outputId": "fad6276d-c7bd-4bb9-f822-e2c1e080ad51"
      },
      "execution_count": null,
      "outputs": [
        {
          "output_type": "stream",
          "name": "stdout",
          "text": [
            "La media de los datos después del muestreo es::  2.8832745326763076\n",
            "La varianza de los datos después del muestreo es:  18.60606084211561\n",
            "La desviación estándar de los datos después del muestreo es:  4.313474335395496\n",
            "El coeficiente de asimetría de los datos después del muestreo es:  4.994382593992126\n",
            "La kurtosis de los datos después del muestreo es:  26.869337846832913\n"
          ]
        }
      ]
    },
    {
      "cell_type": "code",
      "source": [
        "#Error asociado con la muestra de los datos\n",
        "z_m= 2**2\n",
        "p_m= 0.9550\n",
        "nd_m= len(muestras_montecarlo)\n",
        "ek2_m= (z_m*p_m*(1-p_m))/nd_m\n",
        "ek_m= np.sqrt(ek2)\n",
        "print(f\"Error asociado con la muestra de los datos: {ek_m}\")"
      ],
      "metadata": {
        "colab": {
          "base_uri": "https://localhost:8080/"
        },
        "id": "MJKqCVGqooh2",
        "outputId": "8cc3b646-d64f-457e-b399-0ded0742225a"
      },
      "execution_count": null,
      "outputs": [
        {
          "output_type": "stream",
          "name": "stdout",
          "text": [
            "Error asociado con la muestra de los datos: 0.0131110640300473\n"
          ]
        }
      ]
    },
    {
      "cell_type": "markdown",
      "source": [
        "##4. Validación\n"
      ],
      "metadata": {
        "id": "p6C2DLurpXjj"
      }
    },
    {
      "cell_type": "code",
      "source": [
        "#Realizamos una tabla con las métricas antes y después del muestreo\n",
        "data = {\n",
        "    'Métrica': ['Media', 'Varianza', 'Asimetría', 'Kurtosis', 'Error'],\n",
        "    'Antes del Muestreo': [u, var, cas, kur, ek],\n",
        "    'Después del Muestreo': [u_m, var_m, cas_m, kur_m, ek_m]\n",
        "}\n",
        "df = pd.DataFrame(data)\n",
        "print(df)"
      ],
      "metadata": {
        "colab": {
          "base_uri": "https://localhost:8080/"
        },
        "id": "wVBg0diWQxg3",
        "outputId": "b7d2c820-2ead-487e-ad40-1effe4fa6e4e"
      },
      "execution_count": null,
      "outputs": [
        {
          "output_type": "stream",
          "name": "stdout",
          "text": [
            "     Métrica  Antes del Muestreo  Después del Muestreo\n",
            "0      Media            2.656433              2.883275\n",
            "1   Varianza           13.089557             18.606061\n",
            "2  Asimetría            5.313307              4.994383\n",
            "3   Kurtosis           31.735557             26.869338\n",
            "4      Error            0.022162              0.013111\n"
          ]
        }
      ]
    },
    {
      "cell_type": "code",
      "source": [
        "#Gráfica de Distribuciones\n",
        "plt.figure()\n",
        "sns.histplot(LDA, kde=True, bins=30, color= 'purple', alpha=0.5, label='Antes del Muestreo')\n",
        "sns.histplot(muestras_montecarlo, kde=True, bins=30, color= 'yellow', alpha=0.5, label='Después del Muestreo')\n",
        "plt.legend()\n",
        "plt.show()"
      ],
      "metadata": {
        "colab": {
          "base_uri": "https://localhost:8080/",
          "height": 430
        },
        "id": "P__M9kKZCh8m",
        "outputId": "efc03b78-e580-4b04-c7f0-c1f122c5775e"
      },
      "execution_count": null,
      "outputs": [
        {
          "output_type": "display_data",
          "data": {
            "text/plain": [
              "<Figure size 640x480 with 1 Axes>"
            ],
            "image/png": "[encoded data removed]"
          },
          "metadata": {}
        }
      ]
    },
    {
      "cell_type": "markdown",
      "source": [
        "##5. Análisis de Resultados"
      ],
      "metadata": {
        "id": "4YC8XuBCpK4N"
      }
    },
    {
      "cell_type": "markdown",
      "source": [
        "Después de caracterizar los datos de los eventos de pérdida, tanto antes como después de aplicar el método de muestreo Montecarlo, y tras obtener los valores de las métricas (media, varianza, asimetría, curtosis y el error asociado a la media), se aprecia que el muestreo impacta la distribución de los datos.\n",
        "\n",
        "En concreto, la media aumenta ligeramente (de 2.65 a 2.88), aunque esta diferencia no es considerable en comparación con la media de los datos originales. La varianza, por su parte, experimenta un incremento significativo (de 13.08 a 18.60), lo que indica que, tras aplicar el método Montecarlo, los datos se dispersan más (se alejan de la media).\n",
        "\n",
        "En contraste, el error disminuye (de 0.022 a 0.013), lo que sugiere que la estimación de la media es más precisa después del muestreo. Cabe destacar que, en ambos casos, la mayoría de los eventos de pérdida se concentran en el primer intervalo (90% y 88.5% respectivamente), lo que evidencia que los porcentajes de eventos de pérdida son muy bajos, especialmente en los intervalos que agrupan las pérdidas más altas.\n",
        "\n",
        "En cuanto al gráfico, se observa una asimetría positiva en ambas distribuciones. No obstante, tras el muestreo, la distribución de los datos se desplaza hacia valores más altos, lo que incrementa la variabilidad de los datos."
      ],
      "metadata": {
        "id": "CcMXrK57CPPS"
      }
    }
  ]
}