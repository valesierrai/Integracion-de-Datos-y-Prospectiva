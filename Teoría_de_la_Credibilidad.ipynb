{
  "nbformat": 4,
  "nbformat_minor": 0,
  "metadata": {
    "colab": {
      "provenance": [],
      "authorship_tag": "ABX9TyMoqzr1ECLnJ6Kv0Gr31aI3",
      "include_colab_link": true
    },
    "kernelspec": {
      "name": "python3",
      "display_name": "Python 3"
    },
    "language_info": {
      "name": "python"
    }
  },
  "cells": [
    {
      "cell_type": "markdown",
      "metadata": {
        "id": "view-in-github",
        "colab_type": "text"
      },
      "source": [
        "<a href=\"https://colab.research.google.com/github/valesierrai/Integracion-de-Datos-y-Prospectiva/blob/main/Teor%C3%ADa_de_la_Credibilidad.ipynb\" target=\"_parent\"><img src=\"https://colab.research.google.com/assets/colab-badge.svg\" alt=\"Open In Colab\"/></a>"
      ]
    },
    {
      "cell_type": "markdown",
      "source": [
        "#**Teoría de la Credibilidad**"
      ],
      "metadata": {
        "id": "bX1vqY-pzCq1"
      }
    },
    {
      "cell_type": "markdown",
      "source": [
        "*  OES (Datos Observados-Internos)= Fallas Tecnológicas\n",
        "*  Datos Externos: Admon Ejecución Procesos"
      ],
      "metadata": {
        "id": "ZnHv0hZpyq7q"
      }
    },
    {
      "cell_type": "markdown",
      "source": [
        "##0. Se cargan las Librerías"
      ],
      "metadata": {
        "id": "HHwLndhUzMiY"
      }
    },
    {
      "cell_type": "code",
      "source": [
        "import numpy as np\n",
        "import pandas as pd\n",
        "import matplotlib.pyplot as plt\n",
        "import seaborn as sns\n",
        "\n",
        "from google.colab import drive\n",
        "drive.mount('/content/drive')"
      ],
      "metadata": {
        "colab": {
          "base_uri": "https://localhost:8080/"
        },
        "id": "e65_LI8NzPqq",
        "outputId": "8061b9cd-912c-4cb6-f14a-65baf3ecbb11"
      },
      "execution_count": null,
      "outputs": [
        {
          "output_type": "stream",
          "name": "stdout",
          "text": [
            "Mounted at /content/drive\n"
          ]
        }
      ]
    },
    {
      "cell_type": "markdown",
      "source": [
        "##1. Se cargan los datos"
      ],
      "metadata": {
        "id": "dc2NBgDAzgCc"
      }
    },
    {
      "cell_type": "code",
      "source": [
        "nxlo = \"/content/drive/MyDrive/Colab Notebooks/Integración de Datos y Prospectiva/Bases de Datos/2. FallasTecnológicas.xlsx\"\n",
        "nxle = \"/content/drive/MyDrive/Colab Notebooks/Integración de Datos y Prospectiva/Bases de Datos/2. AdmonEjecProcesos.xlsx\"\n",
        "\n",
        "XDBo = pd.read_excel(nxlo, sheet_name= 0)\n",
        "XDBe = pd.read_excel(nxle, sheet_name= 0)"
      ],
      "metadata": {
        "id": "SRsmVmmwzU4u"
      },
      "execution_count": null,
      "outputs": []
    },
    {
      "cell_type": "code",
      "source": [
        "#Frecuencia y Severidad de cada Base de Datos\n",
        "Xfo=XDBo.iloc[:,3]; Xfe=XDBe.iloc[:,3] #Frecuencia\n",
        "Xso= XDBo.iloc[:,4]; Xse= XDBe.iloc[:,4] #Severidad\n",
        "\n",
        "LDAo = np.multiply(Xfo, Xso); LDAe = np.multiply(Xfe, Xse)"
      ],
      "metadata": {
        "id": "BntMeCqv0LuR"
      },
      "execution_count": null,
      "outputs": []
    },
    {
      "cell_type": "markdown",
      "source": [
        "##2. Se crea el procedimiento para calcular la credibilidad"
      ],
      "metadata": {
        "id": "wiSWL0rR1crk"
      }
    },
    {
      "cell_type": "code",
      "source": [
        "def Credibilidad(LDAo,LDAe):\n",
        "  #LDAo = Indica los datos observados-internos\n",
        "  #LDAe: Indica los datos externos-integración\n",
        "\n",
        "  NDo=len(LDAo);NDe=len(LDAe)\n",
        "  varo=np.var(LDAo);vare=np.var(LDAe)\n",
        "  uo=np.mean(LDAo);ue=np.mean(LDAe)\n",
        "\n",
        "  #MH=media hipotetica\n",
        "  EPV=(NDo*varo+NDe*vare)/(NDo+NDe)\n",
        "  MH=(NDo*uo+NDe*ue)/(NDo+NDe) #Media Hipotética: Busca un punto central entre las dos bases de datos\n",
        "  Cr=EPV\n",
        "\n",
        "  #\n",
        "  pNDo=NDo/(NDo+NDe);pNDe=NDe/(NDo+NDe)\n",
        "  VHM=pNDo*uo**2+pNDe*ue**2-MH**2   #Varianza de los datos con respecto a un punto central o la media hipotética\n",
        "\n",
        "  Cr=NDo/(NDo+(EPV/VHM))\n",
        "\n",
        "  return Cr"
      ],
      "metadata": {
        "id": "dANzaHwU6Dad"
      },
      "execution_count": null,
      "outputs": []
    },
    {
      "cell_type": "code",
      "source": [
        "Cr = Credibilidad(LDAo,LDAe)\n",
        "print(\"La Credibilidad es\",Cr)\n",
        "\n",
        "#Entonces como sería la media de los datos integrados\n",
        "uint=np.mean(LDAo)*Cr+np.mean(LDAe)*(1-Cr)\n",
        "print(\"La media de los datos internos es:\", np.mean(LDAo))\n",
        "print(\"La media de los datos externos es:\", np.mean(LDAe))\n",
        "print(\"La media de los datos integrados es:\", uint)"
      ],
      "metadata": {
        "colab": {
          "base_uri": "https://localhost:8080/"
        },
        "id": "Y94DgMOT6zwg",
        "outputId": "6bec7a07-9767-4393-c2d3-8092516f4980"
      },
      "execution_count": null,
      "outputs": [
        {
          "output_type": "stream",
          "name": "stdout",
          "text": [
            "La Credibilidad es 0.9870054566722836\n",
            "La media de los datos internos es: 9.45111269614836\n",
            "La media de los datos externos es: 1.469187040102234\n",
            "La media de los datos integrados es: 9.347391217372259\n"
          ]
        }
      ]
    },
    {
      "cell_type": "markdown",
      "source": [
        "##3. Análisis de Resultados"
      ],
      "metadata": {
        "id": "LO-geIbT7oDq"
      }
    },
    {
      "cell_type": "markdown",
      "source": [
        "En la integración de bases de datos se pudo observar que la base de datos interna posee un total de 701 datos, mientras que la base de datos externa posee un total de 300 datos. La media de los datos interna estuvo cercana a los 9.46 millones mientras que la media de los datos externos estuvo cerca a los 1.46 millones, lo que muestra la gran diferencia que poseen estas bases de datos frente a la magnitud de las pérdidas, y que se ve claramente reflejado en el valor de credibilidad el cual estuvo por encima del 95% (0.98). en promedio, lo que indica la poca credibilidad de los datos externos frente a una posible de integración de los datos a una base de datos interna."
      ],
      "metadata": {
        "id": "X3wxMpaO7rv6"
      }
    }
  ]
}