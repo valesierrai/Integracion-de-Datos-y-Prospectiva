{
  "nbformat": 4,
  "nbformat_minor": 0,
  "metadata": {
    "colab": {
      "provenance": [],
      "authorship_tag": "ABX9TyPcX/uslGF9iNQ6joRP/AbP",
      "include_colab_link": true
    },
    "kernelspec": {
      "name": "python3",
      "display_name": "Python 3"
    },
    "language_info": {
      "name": "python"
    }
  },
  "cells": [
    {
      "cell_type": "markdown",
      "metadata": {
        "id": "view-in-github",
        "colab_type": "text"
      },
      "source": [
        "<a href=\"https://colab.research.google.com/github/valesierrai/Integracion-de-Datos-y-Prospectiva/blob/main/Programaci%C3%B3n_Orientada_por_Objetos_(POO).ipynb\" target=\"_parent\"><img src=\"https://colab.research.google.com/assets/colab-badge.svg\" alt=\"Open In Colab\"/></a>"
      ]
    },
    {
      "cell_type": "markdown",
      "source": [
        "#**Programación Orientada por Objetos - POO**"
      ],
      "metadata": {
        "id": "SpcO4RVTez3I"
      }
    },
    {
      "cell_type": "markdown",
      "source": [
        "##0. Cargamos Librerías"
      ],
      "metadata": {
        "id": "fNHmcb4yejvQ"
      }
    },
    {
      "cell_type": "code",
      "execution_count": 30,
      "metadata": {
        "colab": {
          "base_uri": "https://localhost:8080/"
        },
        "id": "RHbYX-j3ecwl",
        "outputId": "19c885e9-51bc-41fc-d263-4900db17d6cc"
      },
      "outputs": [
        {
          "output_type": "stream",
          "name": "stdout",
          "text": [
            "Drive already mounted at /content/drive; to attempt to forcibly remount, call drive.mount(\"/content/drive\", force_remount=True).\n"
          ]
        }
      ],
      "source": [
        "import numpy as np\n",
        "import matplotlib.pyplot as plt\n",
        "import pandas as pd\n",
        "import seaborn as sns\n",
        "\n",
        "from scipy.stats import skew #Coeficiente de Asimetría\n",
        "from scipy.stats import kurtosis #Kurtosis\n",
        "\n",
        "from google.colab import drive\n",
        "drive.mount('/content/drive')"
      ]
    },
    {
      "cell_type": "markdown",
      "source": [
        "##1. Cargamos la Base de Datos"
      ],
      "metadata": {
        "id": "cRriopI1gEI6"
      }
    },
    {
      "cell_type": "code",
      "source": [
        "nxl=\"/content/drive/MyDrive/Colab Notebooks/Integración de Datos y Prospectiva/Bases de Datos/3. FallasTecnologicas.xlsx\"\n",
        "XDB=pd.read_excel(nxl, sheet_name=0)\n",
        "XDB.head(5)"
      ],
      "metadata": {
        "colab": {
          "base_uri": "https://localhost:8080/",
          "height": 206
        },
        "id": "HrGe2fAffFiO",
        "outputId": "8fbf2530-b443-49b4-9764-9df187b1cba9"
      },
      "execution_count": 2,
      "outputs": [
        {
          "output_type": "execute_result",
          "data": {
            "text/plain": [
              "     Fechas  Eventos  Transaccion Promedio  Eventos-Fallo  Pérdida Promedio\n",
              "0  Semana 1       80               14.8058              1            0.5374\n",
              "1  Semana 2      105               56.4721              4            1.1978\n",
              "2  Semana 3       70                9.9760              5            0.4269\n",
              "3  Semana 4      105               18.2949              6            1.0814\n",
              "4  Semana 5      130               23.4112              7            1.2105"
            ],
            "text/html": [
              "\n",
              "  <div id=\"df-f056dad5-bff9-4838-8d7d-76a5d582e979\" class=\"colab-df-container\">\n",
              "    <div>\n",
              "<style scoped>\n",
              "    .dataframe tbody tr th:only-of-type {\n",
              "        vertical-align: middle;\n",
              "    }\n",
              "\n",
              "    .dataframe tbody tr th {\n",
              "        vertical-align: top;\n",
              "    }\n",
              "\n",
              "    .dataframe thead th {\n",
              "        text-align: right;\n",
              "    }\n",
              "</style>\n",
              "<table border=\"1\" class=\"dataframe\">\n",
              "  <thead>\n",
              "    <tr style=\"text-align: right;\">\n",
              "      <th></th>\n",
              "      <th>Fechas</th>\n",
              "      <th>Eventos</th>\n",
              "      <th>Transaccion Promedio</th>\n",
              "      <th>Eventos-Fallo</th>\n",
              "      <th>Pérdida Promedio</th>\n",
              "    </tr>\n",
              "  </thead>\n",
              "  <tbody>\n",
              "    <tr>\n",
              "      <th>0</th>\n",
              "      <td>Semana 1</td>\n",
              "      <td>80</td>\n",
              "      <td>14.8058</td>\n",
              "      <td>1</td>\n",
              "      <td>0.5374</td>\n",
              "    </tr>\n",
              "    <tr>\n",
              "      <th>1</th>\n",
              "      <td>Semana 2</td>\n",
              "      <td>105</td>\n",
              "      <td>56.4721</td>\n",
              "      <td>4</td>\n",
              "      <td>1.1978</td>\n",
              "    </tr>\n",
              "    <tr>\n",
              "      <th>2</th>\n",
              "      <td>Semana 3</td>\n",
              "      <td>70</td>\n",
              "      <td>9.9760</td>\n",
              "      <td>5</td>\n",
              "      <td>0.4269</td>\n",
              "    </tr>\n",
              "    <tr>\n",
              "      <th>3</th>\n",
              "      <td>Semana 4</td>\n",
              "      <td>105</td>\n",
              "      <td>18.2949</td>\n",
              "      <td>6</td>\n",
              "      <td>1.0814</td>\n",
              "    </tr>\n",
              "    <tr>\n",
              "      <th>4</th>\n",
              "      <td>Semana 5</td>\n",
              "      <td>130</td>\n",
              "      <td>23.4112</td>\n",
              "      <td>7</td>\n",
              "      <td>1.2105</td>\n",
              "    </tr>\n",
              "  </tbody>\n",
              "</table>\n",
              "</div>\n",
              "    <div class=\"colab-df-buttons\">\n",
              "\n",
              "  <div class=\"colab-df-container\">\n",
              "    <button class=\"colab-df-convert\" onclick=\"convertToInteractive('df-f056dad5-bff9-4838-8d7d-76a5d582e979')\"\n",
              "            title=\"Convert this dataframe to an interactive table.\"\n",
              "            style=\"display:none;\">\n",
              "\n",
              "  <svg xmlns=\"http://www.w3.org/2000/svg\" height=\"24px\" viewBox=\"0 -960 960 960\">\n",
              "    <path d=\"M120-120v-720h720v720H120Zm60-500h600v-160H180v160Zm220 220h160v-160H400v160Zm0 220h160v-160H400v160ZM180-400h160v-160H180v160Zm440 0h160v-160H620v160ZM180-180h160v-160H180v160Zm440 0h160v-160H620v160Z\"/>\n",
              "  </svg>\n",
              "    </button>\n",
              "\n",
              "  <style>\n",
              "    .colab-df-container {\n",
              "      display:flex;\n",
              "      gap: 12px;\n",
              "    }\n",
              "\n",
              "    .colab-df-convert {\n",
              "      background-color: #E8F0FE;\n",
              "      border: none;\n",
              "      border-radius: 50%;\n",
              "      cursor: pointer;\n",
              "      display: none;\n",
              "      fill: #1967D2;\n",
              "      height: 32px;\n",
              "      padding: 0 0 0 0;\n",
              "      width: 32px;\n",
              "    }\n",
              "\n",
              "    .colab-df-convert:hover {\n",
              "      background-color: #E2EBFA;\n",
              "      box-shadow: 0px 1px 2px rgba(60, 64, 67, 0.3), 0px 1px 3px 1px rgba(60, 64, 67, 0.15);\n",
              "      fill: #174EA6;\n",
              "    }\n",
              "\n",
              "    .colab-df-buttons div {\n",
              "      margin-bottom: 4px;\n",
              "    }\n",
              "\n",
              "    [theme=dark] .colab-df-convert {\n",
              "      background-color: #3B4455;\n",
              "      fill: #D2E3FC;\n",
              "    }\n",
              "\n",
              "    [theme=dark] .colab-df-convert:hover {\n",
              "      background-color: #434B5C;\n",
              "      box-shadow: 0px 1px 3px 1px rgba(0, 0, 0, 0.15);\n",
              "      filter: drop-shadow(0px 1px 2px rgba(0, 0, 0, 0.3));\n",
              "      fill: #FFFFFF;\n",
              "    }\n",
              "  </style>\n",
              "\n",
              "    <script>\n",
              "      const buttonEl =\n",
              "        document.querySelector('#df-f056dad5-bff9-4838-8d7d-76a5d582e979 button.colab-df-convert');\n",
              "      buttonEl.style.display =\n",
              "        google.colab.kernel.accessAllowed ? 'block' : 'none';\n",
              "\n",
              "      async function convertToInteractive(key) {\n",
              "        const element = document.querySelector('#df-f056dad5-bff9-4838-8d7d-76a5d582e979');\n",
              "        const dataTable =\n",
              "          await google.colab.kernel.invokeFunction('convertToInteractive',\n",
              "                                                    [key], {});\n",
              "        if (!dataTable) return;\n",
              "\n",
              "        const docLinkHtml = 'Like what you see? Visit the ' +\n",
              "          '<a target=\"_blank\" href=https://colab.research.google.com/notebooks/data_table.ipynb>data table notebook</a>'\n",
              "          + ' to learn more about interactive tables.';\n",
              "        element.innerHTML = '';\n",
              "        dataTable['output_type'] = 'display_data';\n",
              "        await google.colab.output.renderOutput(dataTable, element);\n",
              "        const docLink = document.createElement('div');\n",
              "        docLink.innerHTML = docLinkHtml;\n",
              "        element.appendChild(docLink);\n",
              "      }\n",
              "    </script>\n",
              "  </div>\n",
              "\n",
              "\n",
              "<div id=\"df-9e8c6db8-5efe-4003-9849-7edf0b664119\">\n",
              "  <button class=\"colab-df-quickchart\" onclick=\"quickchart('df-9e8c6db8-5efe-4003-9849-7edf0b664119')\"\n",
              "            title=\"Suggest charts\"\n",
              "            style=\"display:none;\">\n",
              "\n",
              "<svg xmlns=\"http://www.w3.org/2000/svg\" height=\"24px\"viewBox=\"0 0 24 24\"\n",
              "     width=\"24px\">\n",
              "    <g>\n",
              "        <path d=\"M19 3H5c-1.1 0-2 .9-2 2v14c0 1.1.9 2 2 2h14c1.1 0 2-.9 2-2V5c0-1.1-.9-2-2-2zM9 17H7v-7h2v7zm4 0h-2V7h2v10zm4 0h-2v-4h2v4z\"/>\n",
              "    </g>\n",
              "</svg>\n",
              "  </button>\n",
              "\n",
              "<style>\n",
              "  .colab-df-quickchart {\n",
              "      --bg-color: #E8F0FE;\n",
              "      --fill-color: #1967D2;\n",
              "      --hover-bg-color: #E2EBFA;\n",
              "      --hover-fill-color: #174EA6;\n",
              "      --disabled-fill-color: #AAA;\n",
              "      --disabled-bg-color: #DDD;\n",
              "  }\n",
              "\n",
              "  [theme=dark] .colab-df-quickchart {\n",
              "      --bg-color: #3B4455;\n",
              "      --fill-color: #D2E3FC;\n",
              "      --hover-bg-color: #434B5C;\n",
              "      --hover-fill-color: #FFFFFF;\n",
              "      --disabled-bg-color: #3B4455;\n",
              "      --disabled-fill-color: #666;\n",
              "  }\n",
              "\n",
              "  .colab-df-quickchart {\n",
              "    background-color: var(--bg-color);\n",
              "    border: none;\n",
              "    border-radius: 50%;\n",
              "    cursor: pointer;\n",
              "    display: none;\n",
              "    fill: var(--fill-color);\n",
              "    height: 32px;\n",
              "    padding: 0;\n",
              "    width: 32px;\n",
              "  }\n",
              "\n",
              "  .colab-df-quickchart:hover {\n",
              "    background-color: var(--hover-bg-color);\n",
              "    box-shadow: 0 1px 2px rgba(60, 64, 67, 0.3), 0 1px 3px 1px rgba(60, 64, 67, 0.15);\n",
              "    fill: var(--button-hover-fill-color);\n",
              "  }\n",
              "\n",
              "  .colab-df-quickchart-complete:disabled,\n",
              "  .colab-df-quickchart-complete:disabled:hover {\n",
              "    background-color: var(--disabled-bg-color);\n",
              "    fill: var(--disabled-fill-color);\n",
              "    box-shadow: none;\n",
              "  }\n",
              "\n",
              "  .colab-df-spinner {\n",
              "    border: 2px solid var(--fill-color);\n",
              "    border-color: transparent;\n",
              "    border-bottom-color: var(--fill-color);\n",
              "    animation:\n",
              "      spin 1s steps(1) infinite;\n",
              "  }\n",
              "\n",
              "  @keyframes spin {\n",
              "    0% {\n",
              "      border-color: transparent;\n",
              "      border-bottom-color: var(--fill-color);\n",
              "      border-left-color: var(--fill-color);\n",
              "    }\n",
              "    20% {\n",
              "      border-color: transparent;\n",
              "      border-left-color: var(--fill-color);\n",
              "      border-top-color: var(--fill-color);\n",
              "    }\n",
              "    30% {\n",
              "      border-color: transparent;\n",
              "      border-left-color: var(--fill-color);\n",
              "      border-top-color: var(--fill-color);\n",
              "      border-right-color: var(--fill-color);\n",
              "    }\n",
              "    40% {\n",
              "      border-color: transparent;\n",
              "      border-right-color: var(--fill-color);\n",
              "      border-top-color: var(--fill-color);\n",
              "    }\n",
              "    60% {\n",
              "      border-color: transparent;\n",
              "      border-right-color: var(--fill-color);\n",
              "    }\n",
              "    80% {\n",
              "      border-color: transparent;\n",
              "      border-right-color: var(--fill-color);\n",
              "      border-bottom-color: var(--fill-color);\n",
              "    }\n",
              "    90% {\n",
              "      border-color: transparent;\n",
              "      border-bottom-color: var(--fill-color);\n",
              "    }\n",
              "  }\n",
              "</style>\n",
              "\n",
              "  <script>\n",
              "    async function quickchart(key) {\n",
              "      const quickchartButtonEl =\n",
              "        document.querySelector('#' + key + ' button');\n",
              "      quickchartButtonEl.disabled = true;  // To prevent multiple clicks.\n",
              "      quickchartButtonEl.classList.add('colab-df-spinner');\n",
              "      try {\n",
              "        const charts = await google.colab.kernel.invokeFunction(\n",
              "            'suggestCharts', [key], {});\n",
              "      } catch (error) {\n",
              "        console.error('Error during call to suggestCharts:', error);\n",
              "      }\n",
              "      quickchartButtonEl.classList.remove('colab-df-spinner');\n",
              "      quickchartButtonEl.classList.add('colab-df-quickchart-complete');\n",
              "    }\n",
              "    (() => {\n",
              "      let quickchartButtonEl =\n",
              "        document.querySelector('#df-9e8c6db8-5efe-4003-9849-7edf0b664119 button');\n",
              "      quickchartButtonEl.style.display =\n",
              "        google.colab.kernel.accessAllowed ? 'block' : 'none';\n",
              "    })();\n",
              "  </script>\n",
              "</div>\n",
              "\n",
              "    </div>\n",
              "  </div>\n"
            ],
            "application/vnd.google.colaboratory.intrinsic+json": {
              "type": "dataframe",
              "variable_name": "XDB",
              "summary": "{\n  \"name\": \"XDB\",\n  \"rows\": 701,\n  \"fields\": [\n    {\n      \"column\": \"Fechas\",\n      \"properties\": {\n        \"dtype\": \"string\",\n        \"num_unique_values\": 701,\n        \"samples\": [\n          \"Semana 681\",\n          \"Semana 165\",\n          \"Semana 55\"\n        ],\n        \"semantic_type\": \"\",\n        \"description\": \"\"\n      }\n    },\n    {\n      \"column\": \"Eventos\",\n      \"properties\": {\n        \"dtype\": \"number\",\n        \"std\": 22,\n        \"min\": 35,\n        \"max\": 170,\n        \"num_unique_values\": 27,\n        \"samples\": [\n          135,\n          120,\n          75\n        ],\n        \"semantic_type\": \"\",\n        \"description\": \"\"\n      }\n    },\n    {\n      \"column\": \"Transaccion Promedio\",\n      \"properties\": {\n        \"dtype\": \"number\",\n        \"std\": 11.598670971622456,\n        \"min\": -9.9574,\n        \"max\": 59.5669,\n        \"num_unique_values\": 701,\n        \"samples\": [\n          11.6865,\n          38.9345,\n          26.5405\n        ],\n        \"semantic_type\": \"\",\n        \"description\": \"\"\n      }\n    },\n    {\n      \"column\": \"Eventos-Fallo\",\n      \"properties\": {\n        \"dtype\": \"number\",\n        \"std\": 2,\n        \"min\": 1,\n        \"max\": 16,\n        \"num_unique_values\": 15,\n        \"samples\": [\n          10,\n          11,\n          1\n        ],\n        \"semantic_type\": \"\",\n        \"description\": \"\"\n      }\n    },\n    {\n      \"column\": \"P\\u00e9rdida Promedio\",\n      \"properties\": {\n        \"dtype\": \"number\",\n        \"std\": 2.130130353380655,\n        \"min\": 0.0842,\n        \"max\": 17.3129,\n        \"num_unique_values\": 696,\n        \"samples\": [\n          1.2833,\n          0.5493,\n          5.4353\n        ],\n        \"semantic_type\": \"\",\n        \"description\": \"\"\n      }\n    }\n  ]\n}"
            }
          },
          "metadata": {},
          "execution_count": 2
        }
      ]
    },
    {
      "cell_type": "code",
      "source": [
        "Xf= XDB.iloc[:,3]\n",
        "Xs=XDB.iloc[:,4]\n",
        "LDA=np.multiply(Xf,Xs) #Producto entre las dos variables\n",
        "\n",
        "#Convertimos la variables LDA en un DataFrame\n",
        "dfLDA= pd.DataFrame(LDA)"
      ],
      "metadata": {
        "id": "8LZbjqlHf_iE"
      },
      "execution_count": 5,
      "outputs": []
    },
    {
      "cell_type": "markdown",
      "source": [
        "##3. Se crea la función Muestreo y la del Tipo de Distribución"
      ],
      "metadata": {
        "id": "Ov-Nuq7WjScz"
      }
    },
    {
      "cell_type": "code",
      "source": [
        "#Función: Muestreo\n",
        "def muestreo(ND, dfLDA,p):\n",
        "  #ND: Número de datos del muestreo\n",
        "  #dfLDA: Datos enviados al método\n",
        "  #p: Es la confiabilidad del muestreo\n",
        "  LDAm= dfLDA.sample(n=ND, replace=True)\n",
        "  media= np.mean(LDAm) #Media\n",
        "  LI = media+1.96*np.std(LDAm) #Limite Inferior\n",
        "  LS = media-1.96*np.std(LDAm) #Limite Superior\n",
        "  cas = skew(LDAm) #Coeficiente de Asimetría\n",
        "  kur = kurtosis(LDAm) #Kurtosis\n",
        "\n",
        "  ek2= ((1.96**2)*p*(1-p)/ND) #Error\n",
        "\n",
        "  plt.figure #Gráfica\n",
        "  sns.histplot(LDAm, kde=True)\n",
        "  plt.show()\n",
        "  return media, LDAm, LI, LS, cas, kur, ek2"
      ],
      "metadata": {
        "id": "VldbJd2viGD5"
      },
      "execution_count": 41,
      "outputs": []
    },
    {
      "cell_type": "code",
      "source": [
        "#Función: Tipo de Distribución\n",
        "def tipodist(cas, kur):\n",
        "  if abs(cas) < 0.5 and abs(kur) < 0.5:\n",
        "    tpdst= \"Posible distribución Normal\"\n",
        "  elif cas > 0 and kur > 3:\n",
        "    if kur >= 8:\n",
        "      tpdst= \"Posible distribución Exponencial\"\n",
        "    elif kur >= 6:\n",
        "      tpdst= \"Posible distribución Gamma\"\n",
        "    else:\n",
        "      tpdst= \"Posible distribución Weibull\"\n",
        "  elif cas < 0 and kur < 3:\n",
        "    tpdst= \"Posible distribución Beta\"\n",
        "  elif kur < 3:\n",
        "    tpdst= \"Posible distribución Uniforme\"\n",
        "  else:\n",
        "    tpdst= \"No se puede determinar la distribución\"\n",
        "  return tpdst #Nos va a entregar el tipo de distirbución"
      ],
      "metadata": {
        "id": "Bb8vawSZrDqA"
      },
      "execution_count": 37,
      "outputs": []
    },
    {
      "cell_type": "markdown",
      "source": [
        "##4. Procedemos con el Muestreo"
      ],
      "metadata": {
        "id": "Gxudo5ZjkiZ9"
      }
    },
    {
      "cell_type": "markdown",
      "source": [
        "###4.1. Muestreo Confiabilidad 99%"
      ],
      "metadata": {
        "id": "c0CpXJdVs3yU"
      }
    },
    {
      "cell_type": "code",
      "source": [
        "#Muestreo a una confiabilidad del 99%\n",
        "media99, LDAm99, LI99, LS99, cas99, kur99, ek299= muestreo(100, dfLDA, 0.99)\n",
        "print('La media de los datos es:',media99)\n",
        "print('El limite inferior es:',LI99)\n",
        "print('El limite superior es:',LS99)\n",
        "print('El coeficiente de asimetría es:',cas99)\n",
        "print('La kurtosis es:',kur99)\n",
        "print(\"El tipo de distribución es:\",tipodist(cas99, kur99))\n",
        "print(\"El error es de:\", ek299)"
      ],
      "metadata": {
        "colab": {
          "base_uri": "https://localhost:8080/",
          "height": 641
        },
        "id": "PcoMwf6wkmMD",
        "outputId": "213fa4af-834c-4442-fde5-fac1bebe505b"
      },
      "execution_count": 46,
      "outputs": [
        {
          "output_type": "stream",
          "name": "stderr",
          "text": [
            "/usr/local/lib/python3.11/dist-packages/numpy/core/fromnumeric.py:3643: FutureWarning: The behavior of DataFrame.std with axis=None is deprecated, in a future version this will reduce over both axes and return a scalar. To retain the old behavior, pass axis=0 (or do not pass axis)\n",
            "  return std(axis=axis, dtype=dtype, out=out, ddof=ddof, **kwargs)\n"
          ]
        },
        {
          "output_type": "display_data",
          "data": {
            "text/plain": [
              "<Figure size 640x480 with 1 Axes>"
            ],
            "image/png": "[encoded data removed]"
          },
          "metadata": {}
        },
        {
          "output_type": "stream",
          "name": "stdout",
          "text": [
            "La media de los datos es: 10.06023\n",
            "El limite inferior es: 0    30.059825\n",
            "dtype: float64\n",
            "El limite superior es: 0   -9.939365\n",
            "dtype: float64\n",
            "El coeficiente de asimetría es: [1.79422088]\n",
            "La kurtosis es: [3.13635382]\n",
            "El tipo de distribución es: Posible distribución Weibull\n",
            "El error es de: 0.00038031840000000023\n"
          ]
        }
      ]
    },
    {
      "cell_type": "markdown",
      "source": [
        "###4.2. Muestreo Confiabilidad 99,9%"
      ],
      "metadata": {
        "id": "0ZXTUJuQs8wa"
      }
    },
    {
      "cell_type": "code",
      "source": [
        "#Muestreo a una confiabilidad del 99,9%\n",
        "media999, LDAm999,LI999, LS999, cas999, kur999, ek2999= muestreo(1000, dfLDA,0.999)\n",
        "print('La media de los datos es:',media999)\n",
        "print('El limite inferior es:',LI999)\n",
        "print('El limite superior es:',LS999)\n",
        "print('El coeficiente de asimetría es:',cas999)\n",
        "print('La kurtosis es:',kur999)\n",
        "print(\"El tipo de distribución es:\",tipodist(cas999, kur999))\n",
        "print(\"El error es de:\", ek2999)"
      ],
      "metadata": {
        "colab": {
          "base_uri": "https://localhost:8080/",
          "height": 641
        },
        "id": "Pz11TVmUlhnB",
        "outputId": "67e43009-bdf3-4716-bbf6-b3fff8e70aad"
      },
      "execution_count": 47,
      "outputs": [
        {
          "output_type": "stream",
          "name": "stderr",
          "text": [
            "/usr/local/lib/python3.11/dist-packages/numpy/core/fromnumeric.py:3643: FutureWarning: The behavior of DataFrame.std with axis=None is deprecated, in a future version this will reduce over both axes and return a scalar. To retain the old behavior, pass axis=0 (or do not pass axis)\n",
            "  return std(axis=axis, dtype=dtype, out=out, ddof=ddof, **kwargs)\n"
          ]
        },
        {
          "output_type": "display_data",
          "data": {
            "text/plain": [
              "<Figure size 640x480 with 1 Axes>"
            ],
            "image/png": "[encoded data removed]"
          },
          "metadata": {}
        },
        {
          "output_type": "stream",
          "name": "stdout",
          "text": [
            "La media de los datos es: 9.3732884\n",
            "El limite inferior es: 0    35.205518\n",
            "dtype: float64\n",
            "El limite superior es: 0   -16.458941\n",
            "dtype: float64\n",
            "El coeficiente de asimetría es: [3.26721705]\n",
            "La kurtosis es: [13.39064704]\n",
            "El tipo de distribución es: Posible distribución Exponencial\n",
            "El error es de: 3.837758400000003e-06\n"
          ]
        }
      ]
    },
    {
      "cell_type": "markdown",
      "source": [
        "###4.3. Muestreo Confiabilidad 99,99%"
      ],
      "metadata": {
        "id": "70XF5APLs_WT"
      }
    },
    {
      "cell_type": "code",
      "source": [
        "#Muestreo a una confiabilidad del 99,99%\n",
        "media9999, LDAm9999,LI9999, LS9999, cas9999, kur9999, ek29999= muestreo(10000, dfLDA, 0.9999)\n",
        "print('La media de los datos es:',media9999)\n",
        "print('El limite inferior es:',LI9999)\n",
        "print('El limite superior es:',LS9999)\n",
        "print('El coeficiente de asimetría es:',cas9999)\n",
        "print('La kurtosis es:',kur9999)\n",
        "print(\"El tipo de distribución es:\",tipodist(cas9999, kur9999))\n",
        "print(\"El error es de:\", ek29999)"
      ],
      "metadata": {
        "colab": {
          "base_uri": "https://localhost:8080/",
          "height": 641
        },
        "id": "FnCcw11imVS8",
        "outputId": "dc1955bb-5e5e-4800-e651-48b871115906"
      },
      "execution_count": 48,
      "outputs": [
        {
          "output_type": "stream",
          "name": "stderr",
          "text": [
            "/usr/local/lib/python3.11/dist-packages/numpy/core/fromnumeric.py:3643: FutureWarning: The behavior of DataFrame.std with axis=None is deprecated, in a future version this will reduce over both axes and return a scalar. To retain the old behavior, pass axis=0 (or do not pass axis)\n",
            "  return std(axis=axis, dtype=dtype, out=out, ddof=ddof, **kwargs)\n"
          ]
        },
        {
          "output_type": "display_data",
          "data": {
            "text/plain": [
              "<Figure size 640x480 with 1 Axes>"
            ],
            "image/png": "[encoded data removed]"
          },
          "metadata": {}
        },
        {
          "output_type": "stream",
          "name": "stdout",
          "text": [
            "La media de los datos es: 9.55593021\n",
            "El limite inferior es: 0    37.096601\n",
            "dtype: float64\n",
            "El limite superior es: 0   -17.984741\n",
            "dtype: float64\n",
            "El coeficiente de asimetría es: [3.3040277]\n",
            "La kurtosis es: [13.47579505]\n",
            "El tipo de distribución es: Posible distribución Exponencial\n",
            "El error es de: 3.841215839999577e-08\n"
          ]
        }
      ]
    }
  ]
}